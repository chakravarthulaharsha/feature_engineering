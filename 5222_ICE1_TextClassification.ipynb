{
  "nbformat": 4,
  "nbformat_minor": 0,
  "metadata": {
    "colab": {
      "provenance": [],
      "collapsed_sections": []
    },
    "kernelspec": {
      "name": "python3",
      "display_name": "Python 3"
    },
    "language_info": {
      "name": "python"
    }
  },
  "cells": [
    {
      "cell_type": "markdown",
      "source": [
        "# 5222: Feature Engineering ICE#1\n",
        "## Rubric\n",
        "\n",
        "\n",
        "1. Complete and proper Github Submission (10%)\n",
        "2. Complete and proper submission to Canvas (5%)\n",
        "3. Source Code (50%)\n",
        "4. Explaining the answers (30%)\n",
        "5. Commenting, formatting, and visualizing your code properly and timely submission (5%)"
      ],
      "metadata": {
        "id": "tS9jqNhszTzD"
      }
    },
    {
      "cell_type": "code",
      "execution_count": null,
      "metadata": {
        "id": "EpEmrIAZzOix"
      },
      "outputs": [],
      "source": [
        "Please goto https://towardsdatascience.com/text-classification-in-python-dd95d264c802 and follow the article. \n",
        "This article is for text classification using python. \n",
        "Their Github is available at https://github.com/miguelfzafra/Latest-News-Classifier/tree/master/0.%20Latest%20News%20Classifier. \n",
        "Follow their step 00,01,02,03 and 04. Use the same workbook to execute your code\n"
      ]
    },
    {
      "cell_type": "code",
      "source": [],
      "metadata": {
        "id": "eY5p3E0H0JFg"
      },
      "execution_count": null,
      "outputs": []
    },
    {
      "cell_type": "code",
      "source": [],
      "metadata": {
        "id": "9GBDQfbA0JIU"
      },
      "execution_count": null,
      "outputs": []
    },
    {
      "cell_type": "code",
      "source": [],
      "metadata": {
        "id": "pYLddJ4J0JLd"
      },
      "execution_count": null,
      "outputs": []
    },
    {
      "cell_type": "code",
      "source": [],
      "metadata": {
        "id": "ywhLRpDe0JOT"
      },
      "execution_count": null,
      "outputs": []
    },
    {
      "cell_type": "code",
      "source": [],
      "metadata": {
        "id": "uFeCXjd20JQ6"
      },
      "execution_count": null,
      "outputs": []
    },
    {
      "cell_type": "code",
      "source": [
        "After successfully implementing their code. Try to gather data from an online URL related to autonomous cars (your choice but a long article)\n",
        "Use all techniques covered in the above code on the dataset that you have just created. \n"
      ],
      "metadata": {
        "id": "rcPoh_bq0JTx"
      },
      "execution_count": null,
      "outputs": []
    },
    {
      "cell_type": "code",
      "source": [],
      "metadata": {
        "id": "wyz9y4890pKZ"
      },
      "execution_count": null,
      "outputs": []
    },
    {
      "cell_type": "code",
      "source": [],
      "metadata": {
        "id": "vw3fn3ft0pNM"
      },
      "execution_count": null,
      "outputs": []
    },
    {
      "cell_type": "code",
      "source": [],
      "metadata": {
        "id": "L2bnTlVC0pPz"
      },
      "execution_count": null,
      "outputs": []
    },
    {
      "cell_type": "code",
      "source": [],
      "metadata": {
        "id": "P3vvcZz30pSq"
      },
      "execution_count": null,
      "outputs": []
    },
    {
      "cell_type": "code",
      "source": [],
      "metadata": {
        "id": "H_BUV5HB0pXW"
      },
      "execution_count": null,
      "outputs": []
    }
  ]
}