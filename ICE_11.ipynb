{
  "nbformat": 4,
  "nbformat_minor": 0,
  "metadata": {
    "colab": {
      "provenance": [],
      "collapsed_sections": []
    },
    "kernelspec": {
      "name": "python3",
      "display_name": "Python 3"
    },
    "language_info": {
      "name": "python"
    }
  },
  "cells": [
    {
      "cell_type": "markdown",
      "source": [
        "## ICE-11. Audio Features - 1"
      ],
      "metadata": {
        "id": "omWnOFTrEzLq"
      }
    },
    {
      "cell_type": "markdown",
      "source": [
        "# Question 1 \n",
        "\n",
        "### Could audio be convereted to pictures ? \n",
        "\n",
        "#### Answer yes or no  , then  explain briefly to support your choice . \n"
      ],
      "metadata": {
        "id": "-wasq19uFXNx"
      }
    },
    {
      "cell_type": "markdown",
      "source": [
        "## Answer Here "
      ],
      "metadata": {
        "id": "FmMwpo7PFb-z"
      }
    },
    {
      "cell_type": "markdown",
      "source": [
        "# Question 2 \n",
        "\n",
        "### Explain briefly the role of CNN architecture in Audio deep learning model ."
      ],
      "metadata": {
        "id": "Gr7ERR37GgmD"
      }
    },
    {
      "cell_type": "markdown",
      "source": [
        "## Answer Here "
      ],
      "metadata": {
        "id": "cYAWhrPzGkWJ"
      }
    },
    {
      "cell_type": "markdown",
      "source": [
        "###**Tutorial**\n",
        "\n",
        "- Download sample audio file\n",
        "- Verify if its present\n",
        "- import required libraries"
      ],
      "metadata": {
        "id": "KhPdablFHVgI"
      }
    },
    {
      "cell_type": "code",
      "source": [
        "!curl -O https://www2.cs.uic.edu/~i101/SoundFiles/CantinaBand3.wav\n",
        "!ls CantinaBand3.wav"
      ],
      "metadata": {
        "colab": {
          "base_uri": "https://localhost:8080/"
        },
        "id": "0xwtQ4HxJ4G6",
        "outputId": "72bdf7b6-d510-468f-8822-8e27d983b699"
      },
      "execution_count": 3,
      "outputs": [
        {
          "output_type": "stream",
          "name": "stdout",
          "text": [
            "  % Total    % Received % Xferd  Average Speed   Time    Time     Time  Current\n",
            "                                 Dload  Upload   Total   Spent    Left  Speed\n",
            "100  129k  100  129k    0     0   349k      0 --:--:-- --:--:-- --:--:--  348k\n",
            "CantinaBand3.wav\n"
          ]
        }
      ]
    },
    {
      "cell_type": "code",
      "source": [
        "import librosa\n",
        "import matplotlib.pyplot as plt\n",
        "file=r'CantinaBand3.wav'"
      ],
      "metadata": {
        "id": "LCyQDkTNIt-t"
      },
      "execution_count": 12,
      "outputs": []
    },
    {
      "cell_type": "markdown",
      "source": [
        "## Task 1\n",
        "\n",
        "### use above library and load the wav file\n"
      ],
      "metadata": {
        "id": "OcfCSB2SLfCl"
      }
    },
    {
      "cell_type": "code",
      "source": [
        "#code here "
      ],
      "metadata": {
        "id": "WUYSNwCwLfSX"
      },
      "execution_count": null,
      "outputs": []
    },
    {
      "cell_type": "markdown",
      "source": [
        "\n",
        "## Task 2\n",
        "\n",
        "### Once the wav file is loaded , plot the waveform for the audio file and display it \n",
        "[Hint : X axis (Time in seconds) , Y axis (Amplitude)]"
      ],
      "metadata": {
        "id": "6h4WTCHKMsOA"
      }
    },
    {
      "cell_type": "code",
      "source": [
        "# code here "
      ],
      "metadata": {
        "id": "5YG1D8M6NLXE"
      },
      "execution_count": null,
      "outputs": []
    },
    {
      "cell_type": "markdown",
      "source": [
        "\n",
        "## Task 3\n",
        "\n",
        "### Play/Listen to the above audio file"
      ],
      "metadata": {
        "id": "b9MiX0u7NNnv"
      }
    },
    {
      "cell_type": "code",
      "source": [
        "# code here "
      ],
      "metadata": {
        "id": "Hbovf7vXNORo"
      },
      "execution_count": null,
      "outputs": []
    }
  ]
}