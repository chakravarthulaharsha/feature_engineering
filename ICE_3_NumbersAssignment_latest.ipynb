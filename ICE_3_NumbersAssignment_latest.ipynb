{
  "cells": [
    {
      "cell_type": "code",
      "execution_count": 4,
      "id": "1ae4434a",
      "metadata": {
        "id": "1ae4434a"
      },
      "outputs": [],
      "source": [
        "import pandas as pd\n",
        "import numpy as np\n",
        "%matplotlib inline\n",
        "import matplotlib.pyplot as plt\n",
        "import seaborn as sns\n",
        "sns.set()"
      ]
    },
    {
      "cell_type": "markdown",
      "id": "eba55f9a",
      "metadata": {
        "id": "eba55f9a"
      },
      "source": [
        "## **(Tutorial) Binarizing data**\n",
        "\n",
        "Following is a sample of binarizing listen counts in Million Song Dataset\n",
        "### The Echo Nest Taste Profile Subset \n",
        "http://labrosa.ee.columbia.edu/millionsong/sites/default/files/challenge/train_triplets.txt.zip"
      ]
    },
    {
      "cell_type": "code",
      "source": [
        "!wget http://labrosa.ee.columbia.edu/millionsong/sites/default/files/challenge/train_triplets.txt.zip\n"
      ],
      "metadata": {
        "colab": {
          "base_uri": "https://localhost:8080/"
        },
        "id": "Hf0H8L6sqY8f",
        "outputId": "7051d843-1f37-4c76-a580-778517491b21"
      },
      "id": "Hf0H8L6sqY8f",
      "execution_count": 20,
      "outputs": [
        {
          "output_type": "stream",
          "name": "stdout",
          "text": [
            "--2022-09-21 14:43:54--  http://labrosa.ee.columbia.edu/millionsong/sites/default/files/challenge/train_triplets.txt.zip\n",
            "Resolving labrosa.ee.columbia.edu (labrosa.ee.columbia.edu)... 128.59.66.11\n",
            "Connecting to labrosa.ee.columbia.edu (labrosa.ee.columbia.edu)|128.59.66.11|:80... connected.\n",
            "HTTP request sent, awaiting response... 301 Moved Permanently\n",
            "Location: http://millionsongdataset.com/sites/default/files/challenge/train_triplets.txt.zip [following]\n",
            "--2022-09-21 14:43:54--  http://millionsongdataset.com/sites/default/files/challenge/train_triplets.txt.zip\n",
            "Resolving millionsongdataset.com (millionsongdataset.com)... 172.104.14.177\n",
            "Connecting to millionsongdataset.com (millionsongdataset.com)|172.104.14.177|:80... connected.\n",
            "HTTP request sent, awaiting response... 200 OK\n",
            "Length: 512137572 (488M) [application/zip]\n",
            "Saving to: ‘train_triplets.txt.zip’\n",
            "\n",
            "train_triplets.txt. 100%[===================>] 488.41M   262MB/s    in 1.9s    \n",
            "\n",
            "2022-09-21 14:43:56 (262 MB/s) - ‘train_triplets.txt.zip’ saved [512137572/512137572]\n",
            "\n"
          ]
        }
      ]
    },
    {
      "cell_type": "code",
      "execution_count": 21,
      "id": "44eaf33e",
      "metadata": {
        "colab": {
          "base_uri": "https://localhost:8080/",
          "height": 206
        },
        "id": "44eaf33e",
        "outputId": "c8ce8020-b2f7-4e14-933d-8dc4fad446ea"
      },
      "outputs": [
        {
          "output_type": "execute_result",
          "data": {
            "text/plain": [
              "                                          0                   1  2\n",
              "0  b80344d063b5ccb3212f76538f3d9e43d87dca9e  SOAKIMP12A8C130995  1\n",
              "1  b80344d063b5ccb3212f76538f3d9e43d87dca9e  SOAPDEY12A81C210A9  1\n",
              "2  b80344d063b5ccb3212f76538f3d9e43d87dca9e  SOBBMDR12A8C13253B  2\n",
              "3  b80344d063b5ccb3212f76538f3d9e43d87dca9e  SOBFNSP12AF72A0E22  1\n",
              "4  b80344d063b5ccb3212f76538f3d9e43d87dca9e  SOBFOVM12A58A7D494  1"
            ],
            "text/html": [
              "\n",
              "  <div id=\"df-abdf0878-bbde-4bd0-9aef-54111a4867d3\">\n",
              "    <div class=\"colab-df-container\">\n",
              "      <div>\n",
              "<style scoped>\n",
              "    .dataframe tbody tr th:only-of-type {\n",
              "        vertical-align: middle;\n",
              "    }\n",
              "\n",
              "    .dataframe tbody tr th {\n",
              "        vertical-align: top;\n",
              "    }\n",
              "\n",
              "    .dataframe thead th {\n",
              "        text-align: right;\n",
              "    }\n",
              "</style>\n",
              "<table border=\"1\" class=\"dataframe\">\n",
              "  <thead>\n",
              "    <tr style=\"text-align: right;\">\n",
              "      <th></th>\n",
              "      <th>0</th>\n",
              "      <th>1</th>\n",
              "      <th>2</th>\n",
              "    </tr>\n",
              "  </thead>\n",
              "  <tbody>\n",
              "    <tr>\n",
              "      <th>0</th>\n",
              "      <td>b80344d063b5ccb3212f76538f3d9e43d87dca9e</td>\n",
              "      <td>SOAKIMP12A8C130995</td>\n",
              "      <td>1</td>\n",
              "    </tr>\n",
              "    <tr>\n",
              "      <th>1</th>\n",
              "      <td>b80344d063b5ccb3212f76538f3d9e43d87dca9e</td>\n",
              "      <td>SOAPDEY12A81C210A9</td>\n",
              "      <td>1</td>\n",
              "    </tr>\n",
              "    <tr>\n",
              "      <th>2</th>\n",
              "      <td>b80344d063b5ccb3212f76538f3d9e43d87dca9e</td>\n",
              "      <td>SOBBMDR12A8C13253B</td>\n",
              "      <td>2</td>\n",
              "    </tr>\n",
              "    <tr>\n",
              "      <th>3</th>\n",
              "      <td>b80344d063b5ccb3212f76538f3d9e43d87dca9e</td>\n",
              "      <td>SOBFNSP12AF72A0E22</td>\n",
              "      <td>1</td>\n",
              "    </tr>\n",
              "    <tr>\n",
              "      <th>4</th>\n",
              "      <td>b80344d063b5ccb3212f76538f3d9e43d87dca9e</td>\n",
              "      <td>SOBFOVM12A58A7D494</td>\n",
              "      <td>1</td>\n",
              "    </tr>\n",
              "  </tbody>\n",
              "</table>\n",
              "</div>\n",
              "      <button class=\"colab-df-convert\" onclick=\"convertToInteractive('df-abdf0878-bbde-4bd0-9aef-54111a4867d3')\"\n",
              "              title=\"Convert this dataframe to an interactive table.\"\n",
              "              style=\"display:none;\">\n",
              "        \n",
              "  <svg xmlns=\"http://www.w3.org/2000/svg\" height=\"24px\"viewBox=\"0 0 24 24\"\n",
              "       width=\"24px\">\n",
              "    <path d=\"M0 0h24v24H0V0z\" fill=\"none\"/>\n",
              "    <path d=\"M18.56 5.44l.94 2.06.94-2.06 2.06-.94-2.06-.94-.94-2.06-.94 2.06-2.06.94zm-11 1L8.5 8.5l.94-2.06 2.06-.94-2.06-.94L8.5 2.5l-.94 2.06-2.06.94zm10 10l.94 2.06.94-2.06 2.06-.94-2.06-.94-.94-2.06-.94 2.06-2.06.94z\"/><path d=\"M17.41 7.96l-1.37-1.37c-.4-.4-.92-.59-1.43-.59-.52 0-1.04.2-1.43.59L10.3 9.45l-7.72 7.72c-.78.78-.78 2.05 0 2.83L4 21.41c.39.39.9.59 1.41.59.51 0 1.02-.2 1.41-.59l7.78-7.78 2.81-2.81c.8-.78.8-2.07 0-2.86zM5.41 20L4 18.59l7.72-7.72 1.47 1.35L5.41 20z\"/>\n",
              "  </svg>\n",
              "      </button>\n",
              "      \n",
              "  <style>\n",
              "    .colab-df-container {\n",
              "      display:flex;\n",
              "      flex-wrap:wrap;\n",
              "      gap: 12px;\n",
              "    }\n",
              "\n",
              "    .colab-df-convert {\n",
              "      background-color: #E8F0FE;\n",
              "      border: none;\n",
              "      border-radius: 50%;\n",
              "      cursor: pointer;\n",
              "      display: none;\n",
              "      fill: #1967D2;\n",
              "      height: 32px;\n",
              "      padding: 0 0 0 0;\n",
              "      width: 32px;\n",
              "    }\n",
              "\n",
              "    .colab-df-convert:hover {\n",
              "      background-color: #E2EBFA;\n",
              "      box-shadow: 0px 1px 2px rgba(60, 64, 67, 0.3), 0px 1px 3px 1px rgba(60, 64, 67, 0.15);\n",
              "      fill: #174EA6;\n",
              "    }\n",
              "\n",
              "    [theme=dark] .colab-df-convert {\n",
              "      background-color: #3B4455;\n",
              "      fill: #D2E3FC;\n",
              "    }\n",
              "\n",
              "    [theme=dark] .colab-df-convert:hover {\n",
              "      background-color: #434B5C;\n",
              "      box-shadow: 0px 1px 3px 1px rgba(0, 0, 0, 0.15);\n",
              "      filter: drop-shadow(0px 1px 2px rgba(0, 0, 0, 0.3));\n",
              "      fill: #FFFFFF;\n",
              "    }\n",
              "  </style>\n",
              "\n",
              "      <script>\n",
              "        const buttonEl =\n",
              "          document.querySelector('#df-abdf0878-bbde-4bd0-9aef-54111a4867d3 button.colab-df-convert');\n",
              "        buttonEl.style.display =\n",
              "          google.colab.kernel.accessAllowed ? 'block' : 'none';\n",
              "\n",
              "        async function convertToInteractive(key) {\n",
              "          const element = document.querySelector('#df-abdf0878-bbde-4bd0-9aef-54111a4867d3');\n",
              "          const dataTable =\n",
              "            await google.colab.kernel.invokeFunction('convertToInteractive',\n",
              "                                                     [key], {});\n",
              "          if (!dataTable) return;\n",
              "\n",
              "          const docLinkHtml = 'Like what you see? Visit the ' +\n",
              "            '<a target=\"_blank\" href=https://colab.research.google.com/notebooks/data_table.ipynb>data table notebook</a>'\n",
              "            + ' to learn more about interactive tables.';\n",
              "          element.innerHTML = '';\n",
              "          dataTable['output_type'] = 'display_data';\n",
              "          await google.colab.output.renderOutput(dataTable, element);\n",
              "          const docLink = document.createElement('div');\n",
              "          docLink.innerHTML = docLinkHtml;\n",
              "          element.appendChild(docLink);\n",
              "        }\n",
              "      </script>\n",
              "    </div>\n",
              "  </div>\n",
              "  "
            ]
          },
          "metadata": {},
          "execution_count": 21
        }
      ],
      "source": [
        "listen_count = pd.read_csv('train_triplets.txt.zip', header=None, delimiter='\\t')\n",
        "listen_count.head()  # user - song - count"
      ]
    },
    {
      "cell_type": "code",
      "execution_count": 22,
      "id": "bbfdf838",
      "metadata": {
        "colab": {
          "base_uri": "https://localhost:8080/"
        },
        "id": "bbfdf838",
        "outputId": "0763db50-a1dc-4301-fcd9-97e52519807d"
      },
      "outputs": [
        {
          "output_type": "execute_result",
          "data": {
            "text/plain": [
              "9667"
            ]
          },
          "metadata": {},
          "execution_count": 22
        }
      ],
      "source": [
        "np.max(listen_count[2])"
      ]
    },
    {
      "cell_type": "markdown",
      "id": "c67bc26b",
      "metadata": {
        "id": "c67bc26b"
      },
      "source": [
        "Binarizing and visualizing listen counts"
      ]
    },
    {
      "cell_type": "code",
      "execution_count": 23,
      "id": "d9e2b2ce",
      "metadata": {
        "colab": {
          "base_uri": "https://localhost:8080/",
          "height": 455
        },
        "id": "d9e2b2ce",
        "outputId": "1595ca78-a2da-4141-adff-430ad1d04b0a"
      },
      "outputs": [
        {
          "output_type": "display_data",
          "data": {
            "text/plain": [
              "<Figure size 720x504 with 1 Axes>"
            ],
            "image/png": "[encoded data removed]"
          },
          "metadata": {}
        }
      ],
      "source": [
        "sns.set_style('whitegrid')\n",
        "plt.figure(figsize=(10, 7))\n",
        "plt.hist(listen_count[2], bins = 100, edgecolor='black')\n",
        "plt.yscale('log')#, nonpositive='clip')\n",
        "plt.tick_params(axis='both', which='major', labelsize=16)\n",
        "plt.xlim([0,10000])\n",
        "_ = plt.xlabel('Listen Count', fontsize=16)\n",
        "_ = plt.ylabel('Occurrence', fontsize=16)"
      ]
    },
    {
      "cell_type": "markdown",
      "id": "c6ae847c",
      "metadata": {
        "id": "c6ae847c"
      },
      "source": [
        "## **Task 1.1 Read data from Athletes.xlsx file and keep it in a proper type for the following operations**\n",
        "\n",
        "### The athletes information of 2021 Olympics in Tokyo\n",
        "https://www.kaggle.com/arjunprasadsarkhel/2021-olympics-in-tokyo/download"
      ]
    },
    {
      "cell_type": "code",
      "execution_count": 24,
      "id": "5fac9616",
      "metadata": {
        "colab": {
          "base_uri": "https://localhost:8080/"
        },
        "id": "5fac9616",
        "outputId": "1339ca67-f38b-45eb-8361-6e7900c64180"
      },
      "outputs": [
        {
          "output_type": "stream",
          "name": "stdout",
          "text": [
            "--2022-09-21 14:44:46--  https://www.kaggle.com/arjunprasadsarkhel/2021-olympics-in-tokyo/download\n",
            "Resolving www.kaggle.com (www.kaggle.com)... 35.244.233.98\n",
            "Connecting to www.kaggle.com (www.kaggle.com)|35.244.233.98|:443... connected.\n",
            "HTTP request sent, awaiting response... 302 Found\n",
            "Location: /account/login?titleType=dataset-downloads&showDatasetDownloadSkip=False&messageId=datasetsWelcome&returnUrl=%2Fdatasets%2Farjunprasadsarkhel%2F2021-olympics-in-tokyo%3Fresource%3Ddownload [following]\n",
            "--2022-09-21 14:44:47--  https://www.kaggle.com/account/login?titleType=dataset-downloads&showDatasetDownloadSkip=False&messageId=datasetsWelcome&returnUrl=%2Fdatasets%2Farjunprasadsarkhel%2F2021-olympics-in-tokyo%3Fresource%3Ddownload\n",
            "Reusing existing connection to www.kaggle.com:443.\n",
            "HTTP request sent, awaiting response... 200 OK\n",
            "Length: unspecified [text/html]\n",
            "Saving to: ‘download’\n",
            "\n",
            "\rdownload                [<=>                 ]       0  --.-KB/s               \rdownload                [ <=>                ]   6.48K  --.-KB/s    in 0s      \n",
            "\n",
            "2022-09-21 14:44:47 (15.6 MB/s) - ‘download’ saved [6637]\n",
            "\n"
          ]
        }
      ],
      "source": [
        "# write your code here\n",
        "!wget https://www.kaggle.com/arjunprasadsarkhel/2021-olympics-in-tokyo/download\n"
      ]
    },
    {
      "cell_type": "code",
      "source": [
        "df=pd.read_excel('/content/Athletes.xlsx')"
      ],
      "metadata": {
        "id": "klQ8gfGfHmYH"
      },
      "id": "klQ8gfGfHmYH",
      "execution_count": 27,
      "outputs": []
    },
    {
      "cell_type": "code",
      "source": [
        "df.head()"
      ],
      "metadata": {
        "colab": {
          "base_uri": "https://localhost:8080/",
          "height": 206
        },
        "id": "2hOEAObSISdj",
        "outputId": "c8f0c608-da43-4004-a78c-a20cca4fada0"
      },
      "id": "2hOEAObSISdj",
      "execution_count": 28,
      "outputs": [
        {
          "output_type": "execute_result",
          "data": {
            "text/plain": [
              "                Name     NOC           Discipline\n",
              "0    AALERUD Katrine  Norway         Cycling Road\n",
              "1        ABAD Nestor   Spain  Artistic Gymnastics\n",
              "2  ABAGNALE Giovanni   Italy               Rowing\n",
              "3     ABALDE Alberto   Spain           Basketball\n",
              "4      ABALDE Tamara   Spain           Basketball"
            ],
            "text/html": [
              "\n",
              "  <div id=\"df-061238af-eb01-4c05-97f4-ce9dd18b04a8\">\n",
              "    <div class=\"colab-df-container\">\n",
              "      <div>\n",
              "<style scoped>\n",
              "    .dataframe tbody tr th:only-of-type {\n",
              "        vertical-align: middle;\n",
              "    }\n",
              "\n",
              "    .dataframe tbody tr th {\n",
              "        vertical-align: top;\n",
              "    }\n",
              "\n",
              "    .dataframe thead th {\n",
              "        text-align: right;\n",
              "    }\n",
              "</style>\n",
              "<table border=\"1\" class=\"dataframe\">\n",
              "  <thead>\n",
              "    <tr style=\"text-align: right;\">\n",
              "      <th></th>\n",
              "      <th>Name</th>\n",
              "      <th>NOC</th>\n",
              "      <th>Discipline</th>\n",
              "    </tr>\n",
              "  </thead>\n",
              "  <tbody>\n",
              "    <tr>\n",
              "      <th>0</th>\n",
              "      <td>AALERUD Katrine</td>\n",
              "      <td>Norway</td>\n",
              "      <td>Cycling Road</td>\n",
              "    </tr>\n",
              "    <tr>\n",
              "      <th>1</th>\n",
              "      <td>ABAD Nestor</td>\n",
              "      <td>Spain</td>\n",
              "      <td>Artistic Gymnastics</td>\n",
              "    </tr>\n",
              "    <tr>\n",
              "      <th>2</th>\n",
              "      <td>ABAGNALE Giovanni</td>\n",
              "      <td>Italy</td>\n",
              "      <td>Rowing</td>\n",
              "    </tr>\n",
              "    <tr>\n",
              "      <th>3</th>\n",
              "      <td>ABALDE Alberto</td>\n",
              "      <td>Spain</td>\n",
              "      <td>Basketball</td>\n",
              "    </tr>\n",
              "    <tr>\n",
              "      <th>4</th>\n",
              "      <td>ABALDE Tamara</td>\n",
              "      <td>Spain</td>\n",
              "      <td>Basketball</td>\n",
              "    </tr>\n",
              "  </tbody>\n",
              "</table>\n",
              "</div>\n",
              "      <button class=\"colab-df-convert\" onclick=\"convertToInteractive('df-061238af-eb01-4c05-97f4-ce9dd18b04a8')\"\n",
              "              title=\"Convert this dataframe to an interactive table.\"\n",
              "              style=\"display:none;\">\n",
              "        \n",
              "  <svg xmlns=\"http://www.w3.org/2000/svg\" height=\"24px\"viewBox=\"0 0 24 24\"\n",
              "       width=\"24px\">\n",
              "    <path d=\"M0 0h24v24H0V0z\" fill=\"none\"/>\n",
              "    <path d=\"M18.56 5.44l.94 2.06.94-2.06 2.06-.94-2.06-.94-.94-2.06-.94 2.06-2.06.94zm-11 1L8.5 8.5l.94-2.06 2.06-.94-2.06-.94L8.5 2.5l-.94 2.06-2.06.94zm10 10l.94 2.06.94-2.06 2.06-.94-2.06-.94-.94-2.06-.94 2.06-2.06.94z\"/><path d=\"M17.41 7.96l-1.37-1.37c-.4-.4-.92-.59-1.43-.59-.52 0-1.04.2-1.43.59L10.3 9.45l-7.72 7.72c-.78.78-.78 2.05 0 2.83L4 21.41c.39.39.9.59 1.41.59.51 0 1.02-.2 1.41-.59l7.78-7.78 2.81-2.81c.8-.78.8-2.07 0-2.86zM5.41 20L4 18.59l7.72-7.72 1.47 1.35L5.41 20z\"/>\n",
              "  </svg>\n",
              "      </button>\n",
              "      \n",
              "  <style>\n",
              "    .colab-df-container {\n",
              "      display:flex;\n",
              "      flex-wrap:wrap;\n",
              "      gap: 12px;\n",
              "    }\n",
              "\n",
              "    .colab-df-convert {\n",
              "      background-color: #E8F0FE;\n",
              "      border: none;\n",
              "      border-radius: 50%;\n",
              "      cursor: pointer;\n",
              "      display: none;\n",
              "      fill: #1967D2;\n",
              "      height: 32px;\n",
              "      padding: 0 0 0 0;\n",
              "      width: 32px;\n",
              "    }\n",
              "\n",
              "    .colab-df-convert:hover {\n",
              "      background-color: #E2EBFA;\n",
              "      box-shadow: 0px 1px 2px rgba(60, 64, 67, 0.3), 0px 1px 3px 1px rgba(60, 64, 67, 0.15);\n",
              "      fill: #174EA6;\n",
              "    }\n",
              "\n",
              "    [theme=dark] .colab-df-convert {\n",
              "      background-color: #3B4455;\n",
              "      fill: #D2E3FC;\n",
              "    }\n",
              "\n",
              "    [theme=dark] .colab-df-convert:hover {\n",
              "      background-color: #434B5C;\n",
              "      box-shadow: 0px 1px 3px 1px rgba(0, 0, 0, 0.15);\n",
              "      filter: drop-shadow(0px 1px 2px rgba(0, 0, 0, 0.3));\n",
              "      fill: #FFFFFF;\n",
              "    }\n",
              "  </style>\n",
              "\n",
              "      <script>\n",
              "        const buttonEl =\n",
              "          document.querySelector('#df-061238af-eb01-4c05-97f4-ce9dd18b04a8 button.colab-df-convert');\n",
              "        buttonEl.style.display =\n",
              "          google.colab.kernel.accessAllowed ? 'block' : 'none';\n",
              "\n",
              "        async function convertToInteractive(key) {\n",
              "          const element = document.querySelector('#df-061238af-eb01-4c05-97f4-ce9dd18b04a8');\n",
              "          const dataTable =\n",
              "            await google.colab.kernel.invokeFunction('convertToInteractive',\n",
              "                                                     [key], {});\n",
              "          if (!dataTable) return;\n",
              "\n",
              "          const docLinkHtml = 'Like what you see? Visit the ' +\n",
              "            '<a target=\"_blank\" href=https://colab.research.google.com/notebooks/data_table.ipynb>data table notebook</a>'\n",
              "            + ' to learn more about interactive tables.';\n",
              "          element.innerHTML = '';\n",
              "          dataTable['output_type'] = 'display_data';\n",
              "          await google.colab.output.renderOutput(dataTable, element);\n",
              "          const docLink = document.createElement('div');\n",
              "          docLink.innerHTML = docLinkHtml;\n",
              "          element.appendChild(docLink);\n",
              "        }\n",
              "      </script>\n",
              "    </div>\n",
              "  </div>\n",
              "  "
            ]
          },
          "metadata": {},
          "execution_count": 28
        }
      ]
    },
    {
      "cell_type": "code",
      "source": [
        "df['NOC']"
      ],
      "metadata": {
        "colab": {
          "base_uri": "https://localhost:8080/"
        },
        "id": "lvFqV0rsekLh",
        "outputId": "5a12fee7-0faa-4997-e157-c614a2a58609"
      },
      "id": "lvFqV0rsekLh",
      "execution_count": 29,
      "outputs": [
        {
          "output_type": "execute_result",
          "data": {
            "text/plain": [
              "0         Norway\n",
              "1          Spain\n",
              "2          Italy\n",
              "3          Spain\n",
              "4          Spain\n",
              "          ...   \n",
              "11080    Germany\n",
              "11081     Poland\n",
              "11082        ROC\n",
              "11083        ROC\n",
              "11084     Poland\n",
              "Name: NOC, Length: 11085, dtype: object"
            ]
          },
          "metadata": {},
          "execution_count": 29
        }
      ]
    },
    {
      "cell_type": "markdown",
      "id": "60cea2a3",
      "metadata": {
        "id": "60cea2a3"
      },
      "source": [
        "## **Task 1.2 Extracting the data in column 'NOC' and encoding them, then binarizing and visualizing them (number of athletes on x-axis, number of countries on y-axis)**"
      ]
    },
    {
      "cell_type": "code",
      "execution_count": 30,
      "id": "c8bc96c4",
      "metadata": {
        "id": "c8bc96c4"
      },
      "outputs": [],
      "source": [
        "# write you code here\n",
        "from sklearn.preprocessing import LabelEncoder\n",
        "from sklearn.preprocessing import Binarizer\n",
        "label_encoder=LabelEncoder()\n",
        "df['encoded_noc']=label_encoder.fit_transform(df['NOC'])"
      ]
    },
    {
      "cell_type": "code",
      "source": [
        "df['NOC'],df['encoded_noc']"
      ],
      "metadata": {
        "colab": {
          "base_uri": "https://localhost:8080/"
        },
        "id": "VVhjXXC0j6Ja",
        "outputId": "49643520-21e3-4c16-9ed9-f0d2958592ec"
      },
      "id": "VVhjXXC0j6Ja",
      "execution_count": 31,
      "outputs": [
        {
          "output_type": "execute_result",
          "data": {
            "text/plain": [
              "(0         Norway\n",
              " 1          Spain\n",
              " 2          Italy\n",
              " 3          Spain\n",
              " 4          Spain\n",
              "           ...   \n",
              " 11080    Germany\n",
              " 11081     Poland\n",
              " 11082        ROC\n",
              " 11083        ROC\n",
              " 11084     Poland\n",
              " Name: NOC, Length: 11085, dtype: object, 0        136\n",
              " 1        174\n",
              " 2         92\n",
              " 3        174\n",
              " 4        174\n",
              "         ... \n",
              " 11080     71\n",
              " 11081    147\n",
              " 11082    151\n",
              " 11083    151\n",
              " 11084    147\n",
              " Name: encoded_noc, Length: 11085, dtype: int64)"
            ]
          },
          "metadata": {},
          "execution_count": 31
        }
      ]
    },
    {
      "cell_type": "code",
      "source": [
        "df.head()"
      ],
      "metadata": {
        "id": "JJM_LBP5mLn7",
        "colab": {
          "base_uri": "https://localhost:8080/",
          "height": 206
        },
        "outputId": "ff9dfdb5-9bf4-4081-ae08-ebaddda70ba6"
      },
      "id": "JJM_LBP5mLn7",
      "execution_count": 32,
      "outputs": [
        {
          "output_type": "execute_result",
          "data": {
            "text/plain": [
              "                Name     NOC           Discipline  encoded_noc\n",
              "0    AALERUD Katrine  Norway         Cycling Road          136\n",
              "1        ABAD Nestor   Spain  Artistic Gymnastics          174\n",
              "2  ABAGNALE Giovanni   Italy               Rowing           92\n",
              "3     ABALDE Alberto   Spain           Basketball          174\n",
              "4      ABALDE Tamara   Spain           Basketball          174"
            ],
            "text/html": [
              "\n",
              "  <div id=\"df-d72248c1-eb6a-4655-af50-5bf0589a5949\">\n",
              "    <div class=\"colab-df-container\">\n",
              "      <div>\n",
              "<style scoped>\n",
              "    .dataframe tbody tr th:only-of-type {\n",
              "        vertical-align: middle;\n",
              "    }\n",
              "\n",
              "    .dataframe tbody tr th {\n",
              "        vertical-align: top;\n",
              "    }\n",
              "\n",
              "    .dataframe thead th {\n",
              "        text-align: right;\n",
              "    }\n",
              "</style>\n",
              "<table border=\"1\" class=\"dataframe\">\n",
              "  <thead>\n",
              "    <tr style=\"text-align: right;\">\n",
              "      <th></th>\n",
              "      <th>Name</th>\n",
              "      <th>NOC</th>\n",
              "      <th>Discipline</th>\n",
              "      <th>encoded_noc</th>\n",
              "    </tr>\n",
              "  </thead>\n",
              "  <tbody>\n",
              "    <tr>\n",
              "      <th>0</th>\n",
              "      <td>AALERUD Katrine</td>\n",
              "      <td>Norway</td>\n",
              "      <td>Cycling Road</td>\n",
              "      <td>136</td>\n",
              "    </tr>\n",
              "    <tr>\n",
              "      <th>1</th>\n",
              "      <td>ABAD Nestor</td>\n",
              "      <td>Spain</td>\n",
              "      <td>Artistic Gymnastics</td>\n",
              "      <td>174</td>\n",
              "    </tr>\n",
              "    <tr>\n",
              "      <th>2</th>\n",
              "      <td>ABAGNALE Giovanni</td>\n",
              "      <td>Italy</td>\n",
              "      <td>Rowing</td>\n",
              "      <td>92</td>\n",
              "    </tr>\n",
              "    <tr>\n",
              "      <th>3</th>\n",
              "      <td>ABALDE Alberto</td>\n",
              "      <td>Spain</td>\n",
              "      <td>Basketball</td>\n",
              "      <td>174</td>\n",
              "    </tr>\n",
              "    <tr>\n",
              "      <th>4</th>\n",
              "      <td>ABALDE Tamara</td>\n",
              "      <td>Spain</td>\n",
              "      <td>Basketball</td>\n",
              "      <td>174</td>\n",
              "    </tr>\n",
              "  </tbody>\n",
              "</table>\n",
              "</div>\n",
              "      <button class=\"colab-df-convert\" onclick=\"convertToInteractive('df-d72248c1-eb6a-4655-af50-5bf0589a5949')\"\n",
              "              title=\"Convert this dataframe to an interactive table.\"\n",
              "              style=\"display:none;\">\n",
              "        \n",
              "  <svg xmlns=\"http://www.w3.org/2000/svg\" height=\"24px\"viewBox=\"0 0 24 24\"\n",
              "       width=\"24px\">\n",
              "    <path d=\"M0 0h24v24H0V0z\" fill=\"none\"/>\n",
              "    <path d=\"M18.56 5.44l.94 2.06.94-2.06 2.06-.94-2.06-.94-.94-2.06-.94 2.06-2.06.94zm-11 1L8.5 8.5l.94-2.06 2.06-.94-2.06-.94L8.5 2.5l-.94 2.06-2.06.94zm10 10l.94 2.06.94-2.06 2.06-.94-2.06-.94-.94-2.06-.94 2.06-2.06.94z\"/><path d=\"M17.41 7.96l-1.37-1.37c-.4-.4-.92-.59-1.43-.59-.52 0-1.04.2-1.43.59L10.3 9.45l-7.72 7.72c-.78.78-.78 2.05 0 2.83L4 21.41c.39.39.9.59 1.41.59.51 0 1.02-.2 1.41-.59l7.78-7.78 2.81-2.81c.8-.78.8-2.07 0-2.86zM5.41 20L4 18.59l7.72-7.72 1.47 1.35L5.41 20z\"/>\n",
              "  </svg>\n",
              "      </button>\n",
              "      \n",
              "  <style>\n",
              "    .colab-df-container {\n",
              "      display:flex;\n",
              "      flex-wrap:wrap;\n",
              "      gap: 12px;\n",
              "    }\n",
              "\n",
              "    .colab-df-convert {\n",
              "      background-color: #E8F0FE;\n",
              "      border: none;\n",
              "      border-radius: 50%;\n",
              "      cursor: pointer;\n",
              "      display: none;\n",
              "      fill: #1967D2;\n",
              "      height: 32px;\n",
              "      padding: 0 0 0 0;\n",
              "      width: 32px;\n",
              "    }\n",
              "\n",
              "    .colab-df-convert:hover {\n",
              "      background-color: #E2EBFA;\n",
              "      box-shadow: 0px 1px 2px rgba(60, 64, 67, 0.3), 0px 1px 3px 1px rgba(60, 64, 67, 0.15);\n",
              "      fill: #174EA6;\n",
              "    }\n",
              "\n",
              "    [theme=dark] .colab-df-convert {\n",
              "      background-color: #3B4455;\n",
              "      fill: #D2E3FC;\n",
              "    }\n",
              "\n",
              "    [theme=dark] .colab-df-convert:hover {\n",
              "      background-color: #434B5C;\n",
              "      box-shadow: 0px 1px 3px 1px rgba(0, 0, 0, 0.15);\n",
              "      filter: drop-shadow(0px 1px 2px rgba(0, 0, 0, 0.3));\n",
              "      fill: #FFFFFF;\n",
              "    }\n",
              "  </style>\n",
              "\n",
              "      <script>\n",
              "        const buttonEl =\n",
              "          document.querySelector('#df-d72248c1-eb6a-4655-af50-5bf0589a5949 button.colab-df-convert');\n",
              "        buttonEl.style.display =\n",
              "          google.colab.kernel.accessAllowed ? 'block' : 'none';\n",
              "\n",
              "        async function convertToInteractive(key) {\n",
              "          const element = document.querySelector('#df-d72248c1-eb6a-4655-af50-5bf0589a5949');\n",
              "          const dataTable =\n",
              "            await google.colab.kernel.invokeFunction('convertToInteractive',\n",
              "                                                     [key], {});\n",
              "          if (!dataTable) return;\n",
              "\n",
              "          const docLinkHtml = 'Like what you see? Visit the ' +\n",
              "            '<a target=\"_blank\" href=https://colab.research.google.com/notebooks/data_table.ipynb>data table notebook</a>'\n",
              "            + ' to learn more about interactive tables.';\n",
              "          element.innerHTML = '';\n",
              "          dataTable['output_type'] = 'display_data';\n",
              "          await google.colab.output.renderOutput(dataTable, element);\n",
              "          const docLink = document.createElement('div');\n",
              "          docLink.innerHTML = docLinkHtml;\n",
              "          element.appendChild(docLink);\n",
              "        }\n",
              "      </script>\n",
              "    </div>\n",
              "  </div>\n",
              "  "
            ]
          },
          "metadata": {},
          "execution_count": 32
        }
      ]
    },
    {
      "cell_type": "code",
      "source": [
        "country_wise=df[['encoded_noc']].groupby(df['encoded_noc']).count()\n",
        "country_wise.head()"
      ],
      "metadata": {
        "colab": {
          "base_uri": "https://localhost:8080/",
          "height": 237
        },
        "id": "HaRfDhxJmddS",
        "outputId": "81f02669-81a4-481a-b753-3871f08089fc"
      },
      "id": "HaRfDhxJmddS",
      "execution_count": 33,
      "outputs": [
        {
          "output_type": "execute_result",
          "data": {
            "text/plain": [
              "             encoded_noc\n",
              "encoded_noc             \n",
              "0                      5\n",
              "1                      8\n",
              "2                     41\n",
              "3                      5\n",
              "4                      2"
            ],
            "text/html": [
              "\n",
              "  <div id=\"df-d14a5658-f1f9-4707-9493-ec6b06694bd1\">\n",
              "    <div class=\"colab-df-container\">\n",
              "      <div>\n",
              "<style scoped>\n",
              "    .dataframe tbody tr th:only-of-type {\n",
              "        vertical-align: middle;\n",
              "    }\n",
              "\n",
              "    .dataframe tbody tr th {\n",
              "        vertical-align: top;\n",
              "    }\n",
              "\n",
              "    .dataframe thead th {\n",
              "        text-align: right;\n",
              "    }\n",
              "</style>\n",
              "<table border=\"1\" class=\"dataframe\">\n",
              "  <thead>\n",
              "    <tr style=\"text-align: right;\">\n",
              "      <th></th>\n",
              "      <th>encoded_noc</th>\n",
              "    </tr>\n",
              "    <tr>\n",
              "      <th>encoded_noc</th>\n",
              "      <th></th>\n",
              "    </tr>\n",
              "  </thead>\n",
              "  <tbody>\n",
              "    <tr>\n",
              "      <th>0</th>\n",
              "      <td>5</td>\n",
              "    </tr>\n",
              "    <tr>\n",
              "      <th>1</th>\n",
              "      <td>8</td>\n",
              "    </tr>\n",
              "    <tr>\n",
              "      <th>2</th>\n",
              "      <td>41</td>\n",
              "    </tr>\n",
              "    <tr>\n",
              "      <th>3</th>\n",
              "      <td>5</td>\n",
              "    </tr>\n",
              "    <tr>\n",
              "      <th>4</th>\n",
              "      <td>2</td>\n",
              "    </tr>\n",
              "  </tbody>\n",
              "</table>\n",
              "</div>\n",
              "      <button class=\"colab-df-convert\" onclick=\"convertToInteractive('df-d14a5658-f1f9-4707-9493-ec6b06694bd1')\"\n",
              "              title=\"Convert this dataframe to an interactive table.\"\n",
              "              style=\"display:none;\">\n",
              "        \n",
              "  <svg xmlns=\"http://www.w3.org/2000/svg\" height=\"24px\"viewBox=\"0 0 24 24\"\n",
              "       width=\"24px\">\n",
              "    <path d=\"M0 0h24v24H0V0z\" fill=\"none\"/>\n",
              "    <path d=\"M18.56 5.44l.94 2.06.94-2.06 2.06-.94-2.06-.94-.94-2.06-.94 2.06-2.06.94zm-11 1L8.5 8.5l.94-2.06 2.06-.94-2.06-.94L8.5 2.5l-.94 2.06-2.06.94zm10 10l.94 2.06.94-2.06 2.06-.94-2.06-.94-.94-2.06-.94 2.06-2.06.94z\"/><path d=\"M17.41 7.96l-1.37-1.37c-.4-.4-.92-.59-1.43-.59-.52 0-1.04.2-1.43.59L10.3 9.45l-7.72 7.72c-.78.78-.78 2.05 0 2.83L4 21.41c.39.39.9.59 1.41.59.51 0 1.02-.2 1.41-.59l7.78-7.78 2.81-2.81c.8-.78.8-2.07 0-2.86zM5.41 20L4 18.59l7.72-7.72 1.47 1.35L5.41 20z\"/>\n",
              "  </svg>\n",
              "      </button>\n",
              "      \n",
              "  <style>\n",
              "    .colab-df-container {\n",
              "      display:flex;\n",
              "      flex-wrap:wrap;\n",
              "      gap: 12px;\n",
              "    }\n",
              "\n",
              "    .colab-df-convert {\n",
              "      background-color: #E8F0FE;\n",
              "      border: none;\n",
              "      border-radius: 50%;\n",
              "      cursor: pointer;\n",
              "      display: none;\n",
              "      fill: #1967D2;\n",
              "      height: 32px;\n",
              "      padding: 0 0 0 0;\n",
              "      width: 32px;\n",
              "    }\n",
              "\n",
              "    .colab-df-convert:hover {\n",
              "      background-color: #E2EBFA;\n",
              "      box-shadow: 0px 1px 2px rgba(60, 64, 67, 0.3), 0px 1px 3px 1px rgba(60, 64, 67, 0.15);\n",
              "      fill: #174EA6;\n",
              "    }\n",
              "\n",
              "    [theme=dark] .colab-df-convert {\n",
              "      background-color: #3B4455;\n",
              "      fill: #D2E3FC;\n",
              "    }\n",
              "\n",
              "    [theme=dark] .colab-df-convert:hover {\n",
              "      background-color: #434B5C;\n",
              "      box-shadow: 0px 1px 3px 1px rgba(0, 0, 0, 0.15);\n",
              "      filter: drop-shadow(0px 1px 2px rgba(0, 0, 0, 0.3));\n",
              "      fill: #FFFFFF;\n",
              "    }\n",
              "  </style>\n",
              "\n",
              "      <script>\n",
              "        const buttonEl =\n",
              "          document.querySelector('#df-d14a5658-f1f9-4707-9493-ec6b06694bd1 button.colab-df-convert');\n",
              "        buttonEl.style.display =\n",
              "          google.colab.kernel.accessAllowed ? 'block' : 'none';\n",
              "\n",
              "        async function convertToInteractive(key) {\n",
              "          const element = document.querySelector('#df-d14a5658-f1f9-4707-9493-ec6b06694bd1');\n",
              "          const dataTable =\n",
              "            await google.colab.kernel.invokeFunction('convertToInteractive',\n",
              "                                                     [key], {});\n",
              "          if (!dataTable) return;\n",
              "\n",
              "          const docLinkHtml = 'Like what you see? Visit the ' +\n",
              "            '<a target=\"_blank\" href=https://colab.research.google.com/notebooks/data_table.ipynb>data table notebook</a>'\n",
              "            + ' to learn more about interactive tables.';\n",
              "          element.innerHTML = '';\n",
              "          dataTable['output_type'] = 'display_data';\n",
              "          await google.colab.output.renderOutput(dataTable, element);\n",
              "          const docLink = document.createElement('div');\n",
              "          docLink.innerHTML = docLinkHtml;\n",
              "          element.appendChild(docLink);\n",
              "        }\n",
              "      </script>\n",
              "    </div>\n",
              "  </div>\n",
              "  "
            ]
          },
          "metadata": {},
          "execution_count": 33
        }
      ]
    },
    {
      "cell_type": "code",
      "source": [
        "df.head()"
      ],
      "metadata": {
        "colab": {
          "base_uri": "https://localhost:8080/",
          "height": 206
        },
        "id": "y-uhqdPFFmHS",
        "outputId": "16e72e2a-bb24-42a2-91e1-035bef2f8cc2"
      },
      "id": "y-uhqdPFFmHS",
      "execution_count": 34,
      "outputs": [
        {
          "output_type": "execute_result",
          "data": {
            "text/plain": [
              "                Name     NOC           Discipline  encoded_noc\n",
              "0    AALERUD Katrine  Norway         Cycling Road          136\n",
              "1        ABAD Nestor   Spain  Artistic Gymnastics          174\n",
              "2  ABAGNALE Giovanni   Italy               Rowing           92\n",
              "3     ABALDE Alberto   Spain           Basketball          174\n",
              "4      ABALDE Tamara   Spain           Basketball          174"
            ],
            "text/html": [
              "\n",
              "  <div id=\"df-6d0400be-a362-4e8d-8d65-84b459b8d463\">\n",
              "    <div class=\"colab-df-container\">\n",
              "      <div>\n",
              "<style scoped>\n",
              "    .dataframe tbody tr th:only-of-type {\n",
              "        vertical-align: middle;\n",
              "    }\n",
              "\n",
              "    .dataframe tbody tr th {\n",
              "        vertical-align: top;\n",
              "    }\n",
              "\n",
              "    .dataframe thead th {\n",
              "        text-align: right;\n",
              "    }\n",
              "</style>\n",
              "<table border=\"1\" class=\"dataframe\">\n",
              "  <thead>\n",
              "    <tr style=\"text-align: right;\">\n",
              "      <th></th>\n",
              "      <th>Name</th>\n",
              "      <th>NOC</th>\n",
              "      <th>Discipline</th>\n",
              "      <th>encoded_noc</th>\n",
              "    </tr>\n",
              "  </thead>\n",
              "  <tbody>\n",
              "    <tr>\n",
              "      <th>0</th>\n",
              "      <td>AALERUD Katrine</td>\n",
              "      <td>Norway</td>\n",
              "      <td>Cycling Road</td>\n",
              "      <td>136</td>\n",
              "    </tr>\n",
              "    <tr>\n",
              "      <th>1</th>\n",
              "      <td>ABAD Nestor</td>\n",
              "      <td>Spain</td>\n",
              "      <td>Artistic Gymnastics</td>\n",
              "      <td>174</td>\n",
              "    </tr>\n",
              "    <tr>\n",
              "      <th>2</th>\n",
              "      <td>ABAGNALE Giovanni</td>\n",
              "      <td>Italy</td>\n",
              "      <td>Rowing</td>\n",
              "      <td>92</td>\n",
              "    </tr>\n",
              "    <tr>\n",
              "      <th>3</th>\n",
              "      <td>ABALDE Alberto</td>\n",
              "      <td>Spain</td>\n",
              "      <td>Basketball</td>\n",
              "      <td>174</td>\n",
              "    </tr>\n",
              "    <tr>\n",
              "      <th>4</th>\n",
              "      <td>ABALDE Tamara</td>\n",
              "      <td>Spain</td>\n",
              "      <td>Basketball</td>\n",
              "      <td>174</td>\n",
              "    </tr>\n",
              "  </tbody>\n",
              "</table>\n",
              "</div>\n",
              "      <button class=\"colab-df-convert\" onclick=\"convertToInteractive('df-6d0400be-a362-4e8d-8d65-84b459b8d463')\"\n",
              "              title=\"Convert this dataframe to an interactive table.\"\n",
              "              style=\"display:none;\">\n",
              "        \n",
              "  <svg xmlns=\"http://www.w3.org/2000/svg\" height=\"24px\"viewBox=\"0 0 24 24\"\n",
              "       width=\"24px\">\n",
              "    <path d=\"M0 0h24v24H0V0z\" fill=\"none\"/>\n",
              "    <path d=\"M18.56 5.44l.94 2.06.94-2.06 2.06-.94-2.06-.94-.94-2.06-.94 2.06-2.06.94zm-11 1L8.5 8.5l.94-2.06 2.06-.94-2.06-.94L8.5 2.5l-.94 2.06-2.06.94zm10 10l.94 2.06.94-2.06 2.06-.94-2.06-.94-.94-2.06-.94 2.06-2.06.94z\"/><path d=\"M17.41 7.96l-1.37-1.37c-.4-.4-.92-.59-1.43-.59-.52 0-1.04.2-1.43.59L10.3 9.45l-7.72 7.72c-.78.78-.78 2.05 0 2.83L4 21.41c.39.39.9.59 1.41.59.51 0 1.02-.2 1.41-.59l7.78-7.78 2.81-2.81c.8-.78.8-2.07 0-2.86zM5.41 20L4 18.59l7.72-7.72 1.47 1.35L5.41 20z\"/>\n",
              "  </svg>\n",
              "      </button>\n",
              "      \n",
              "  <style>\n",
              "    .colab-df-container {\n",
              "      display:flex;\n",
              "      flex-wrap:wrap;\n",
              "      gap: 12px;\n",
              "    }\n",
              "\n",
              "    .colab-df-convert {\n",
              "      background-color: #E8F0FE;\n",
              "      border: none;\n",
              "      border-radius: 50%;\n",
              "      cursor: pointer;\n",
              "      display: none;\n",
              "      fill: #1967D2;\n",
              "      height: 32px;\n",
              "      padding: 0 0 0 0;\n",
              "      width: 32px;\n",
              "    }\n",
              "\n",
              "    .colab-df-convert:hover {\n",
              "      background-color: #E2EBFA;\n",
              "      box-shadow: 0px 1px 2px rgba(60, 64, 67, 0.3), 0px 1px 3px 1px rgba(60, 64, 67, 0.15);\n",
              "      fill: #174EA6;\n",
              "    }\n",
              "\n",
              "    [theme=dark] .colab-df-convert {\n",
              "      background-color: #3B4455;\n",
              "      fill: #D2E3FC;\n",
              "    }\n",
              "\n",
              "    [theme=dark] .colab-df-convert:hover {\n",
              "      background-color: #434B5C;\n",
              "      box-shadow: 0px 1px 3px 1px rgba(0, 0, 0, 0.15);\n",
              "      filter: drop-shadow(0px 1px 2px rgba(0, 0, 0, 0.3));\n",
              "      fill: #FFFFFF;\n",
              "    }\n",
              "  </style>\n",
              "\n",
              "      <script>\n",
              "        const buttonEl =\n",
              "          document.querySelector('#df-6d0400be-a362-4e8d-8d65-84b459b8d463 button.colab-df-convert');\n",
              "        buttonEl.style.display =\n",
              "          google.colab.kernel.accessAllowed ? 'block' : 'none';\n",
              "\n",
              "        async function convertToInteractive(key) {\n",
              "          const element = document.querySelector('#df-6d0400be-a362-4e8d-8d65-84b459b8d463');\n",
              "          const dataTable =\n",
              "            await google.colab.kernel.invokeFunction('convertToInteractive',\n",
              "                                                     [key], {});\n",
              "          if (!dataTable) return;\n",
              "\n",
              "          const docLinkHtml = 'Like what you see? Visit the ' +\n",
              "            '<a target=\"_blank\" href=https://colab.research.google.com/notebooks/data_table.ipynb>data table notebook</a>'\n",
              "            + ' to learn more about interactive tables.';\n",
              "          element.innerHTML = '';\n",
              "          dataTable['output_type'] = 'display_data';\n",
              "          await google.colab.output.renderOutput(dataTable, element);\n",
              "          const docLink = document.createElement('div');\n",
              "          docLink.innerHTML = docLinkHtml;\n",
              "          element.appendChild(docLink);\n",
              "        }\n",
              "      </script>\n",
              "    </div>\n",
              "  </div>\n",
              "  "
            ]
          },
          "metadata": {},
          "execution_count": 34
        }
      ]
    },
    {
      "cell_type": "markdown",
      "source": [
        "# Binarization and visualization"
      ],
      "metadata": {
        "id": "qyYdfQyhF0Ir"
      },
      "id": "qyYdfQyhF0Ir"
    },
    {
      "cell_type": "code",
      "source": [
        "sns.set_style('whitegrid')\n",
        "plt.figure(figsize=(10, 7))\n",
        "plt.hist(df['encoded_noc'], bins = 100, edgecolor='black')\n",
        "plt.yscale('log')#, nonpositive='clip')\n",
        "plt.tick_params(axis='both', which='major', labelsize=16)\n",
        "plt.xlim([0,500])\n",
        "_ = plt.xlabel('No of athletics', fontsize=16)\n",
        "_ = plt.ylabel('No of Countries', fontsize=16)"
      ],
      "metadata": {
        "colab": {
          "base_uri": "https://localhost:8080/",
          "height": 455
        },
        "id": "8MOvAxqBF5G9",
        "outputId": "155ec01d-ed79-4925-f6d6-eabb172c1edd"
      },
      "id": "8MOvAxqBF5G9",
      "execution_count": 35,
      "outputs": [
        {
          "output_type": "display_data",
          "data": {
            "text/plain": [
              "<Figure size 720x504 with 1 Axes>"
            ],
            "image/png": "[encoded data removed]"
          },
          "metadata": {}
        }
      ]
    },
    {
      "cell_type": "markdown",
      "id": "d1d7f32f",
      "metadata": {
        "id": "d1d7f32f"
      },
      "source": [
        "## **(Tutorial) Quantizing data**"
      ]
    },
    {
      "cell_type": "code",
      "execution_count": 37,
      "id": "c2c1feed",
      "metadata": {
        "id": "c2c1feed",
        "colab": {
          "base_uri": "https://localhost:8080/"
        },
        "outputId": "c9c13472-0563-4f5d-d3d0-4e8a314f32d3"
      },
      "outputs": [
        {
          "output_type": "execute_result",
          "data": {
            "text/plain": [
              "array([37, 34, 40,  8, 48,  5,  2, 86, 51, 62, 60, 30, 59, 97, 56, 43, 27,\n",
              "       80, 70, 79])"
            ]
          },
          "metadata": {},
          "execution_count": 37
        }
      ],
      "source": [
        "# create 20 random numbers in the range (0,100)\n",
        "small_counts = np.random.randint(0, 100, 20) \n",
        "small_counts"
      ]
    },
    {
      "cell_type": "code",
      "execution_count": 38,
      "id": "b7120034",
      "metadata": {
        "id": "b7120034",
        "colab": {
          "base_uri": "https://localhost:8080/"
        },
        "outputId": "c84c4365-b9eb-480e-ffb5-45b0f0d8d81c"
      },
      "outputs": [
        {
          "output_type": "execute_result",
          "data": {
            "text/plain": [
              "array([3, 3, 4, 0, 4, 0, 0, 8, 5, 6, 6, 3, 5, 9, 5, 4, 2, 8, 7, 7])"
            ]
          },
          "metadata": {},
          "execution_count": 38
        }
      ],
      "source": [
        "# divided by 10 to project digits into the range (0,10) \n",
        "np.floor_divide(small_counts, 10)"
      ]
    },
    {
      "cell_type": "code",
      "execution_count": 39,
      "id": "76e409b1",
      "metadata": {
        "id": "76e409b1",
        "colab": {
          "base_uri": "https://localhost:8080/"
        },
        "outputId": "3f16b831-946f-4a63-a86c-26a8bb3390d0"
      },
      "outputs": [
        {
          "output_type": "execute_result",
          "data": {
            "text/plain": [
              "array([2., 3., 4., 1., 0., 2., 2., 3., 3., 4., 4., 1., 1., 3., 2., 2., 4.])"
            ]
          },
          "metadata": {},
          "execution_count": 39
        }
      ],
      "source": [
        "large_counts = [296, 8286, 64011, 80, 3, 725, 867, 2215, 7689, 11495, 91897, 44, 28, 7971, 926, 122, 22222]\n",
        "np.floor(np.log10(large_counts))"
      ]
    },
    {
      "cell_type": "markdown",
      "id": "232eb9aa",
      "metadata": {
        "id": "232eb9aa"
      },
      "source": [
        "### Example: computing deciles of Yelp business review counts\n",
        "Yelp_academic_dataset_business\n",
        "https://github.com/melqkiades/yelp/blob/master/notebooks/yelp_academic_dataset_business.json"
      ]
    },
    {
      "cell_type": "code",
      "execution_count": 40,
      "id": "e284bf82",
      "metadata": {
        "id": "e284bf82"
      },
      "outputs": [],
      "source": [
        "import json"
      ]
    },
    {
      "cell_type": "code",
      "execution_count": 41,
      "id": "26c09a9d",
      "metadata": {
        "id": "26c09a9d"
      },
      "outputs": [],
      "source": [
        "def load_json_df(filename, num_bytes = -1):\n",
        "    '''Load the first `num_bytes` of the filename as a json blob, convert each line into a row in a Pandas data frame.'''\n",
        "    fs = open(filename, encoding='utf-8')\n",
        "    df = pd.DataFrame([json.loads(x) for x in fs.readlines(num_bytes)])\n",
        "    fs.close()\n",
        "    return df"
      ]
    },
    {
      "cell_type": "code",
      "source": [
        "!wget https://raw.githubusercontent.com/melqkiades/yelp/master/notebooks/yelp_academic_dataset_business.json"
      ],
      "metadata": {
        "colab": {
          "base_uri": "https://localhost:8080/"
        },
        "id": "2zbMJh5PG9ri",
        "outputId": "137690db-7a79-4347-8466-834063696a68"
      },
      "id": "2zbMJh5PG9ri",
      "execution_count": 42,
      "outputs": [
        {
          "output_type": "stream",
          "name": "stdout",
          "text": [
            "--2022-09-21 14:46:06--  https://raw.githubusercontent.com/melqkiades/yelp/master/notebooks/yelp_academic_dataset_business.json\n",
            "Resolving raw.githubusercontent.com (raw.githubusercontent.com)... 185.199.110.133, 185.199.108.133, 185.199.111.133, ...\n",
            "Connecting to raw.githubusercontent.com (raw.githubusercontent.com)|185.199.110.133|:443... connected.\n",
            "HTTP request sent, awaiting response... 200 OK\n",
            "Length: 12970329 (12M) [text/plain]\n",
            "Saving to: ‘yelp_academic_dataset_business.json’\n",
            "\n",
            "yelp_academic_datas 100%[===================>]  12.37M  --.-KB/s    in 0.05s   \n",
            "\n",
            "2022-09-21 14:46:07 (248 MB/s) - ‘yelp_academic_dataset_business.json’ saved [12970329/12970329]\n",
            "\n"
          ]
        }
      ]
    },
    {
      "cell_type": "code",
      "execution_count": 43,
      "id": "cc8ec237",
      "metadata": {
        "id": "cc8ec237",
        "outputId": "24346ae4-4598-4842-a98d-632c272673ac",
        "colab": {
          "base_uri": "https://localhost:8080/"
        }
      },
      "outputs": [
        {
          "output_type": "execute_result",
          "data": {
            "text/plain": [
              "(15585, 15)"
            ]
          },
          "metadata": {},
          "execution_count": 43
        }
      ],
      "source": [
        "biz_df = load_json_df('/content/yelp_academic_dataset_business.json')\n",
        "biz_df.shape"
      ]
    },
    {
      "cell_type": "code",
      "execution_count": 44,
      "id": "3bef9a9e",
      "metadata": {
        "id": "3bef9a9e",
        "outputId": "3020d86e-c553-4895-b720-19cd5011a338",
        "colab": {
          "base_uri": "https://localhost:8080/",
          "height": 600
        }
      },
      "outputs": [
        {
          "output_type": "execute_result",
          "data": {
            "text/plain": [
              "              business_id                                       full_address  \\\n",
              "0  O_X3PGhk3Y5JWVi866qlJg                  1501 W Bell Rd\\nPhoenix, AZ 85023   \n",
              "1  QbrM7wqtmoNncqjc6GtFaQ            18501 N 83rd Avenue\\nGlendale, AZ 85308   \n",
              "2  7lbvsGKzhjuX3oJtaXJvOg  5000 S Arizona Mills Cir\\nSte 590\\nTempe, AZ 8...   \n",
              "3  gjxoKVsRJwEoa8zd9XxlAw              912 W Sycamore Pl\\nChandler, AZ 85225   \n",
              "4  V28yjMqyZnbCtabroJN_aA             1745 W Glendale Ave\\nPhoenix, AZ 85021   \n",
              "\n",
              "                                               hours  open  \\\n",
              "0  {'Monday': {'close': '18:00', 'open': '11:00'}...  True   \n",
              "1                                                 {}  True   \n",
              "2  {'Monday': {'close': '21:00', 'open': '10:00'}...  True   \n",
              "3  {'Monday': {'close': '19:00', 'open': '06:00'}...  True   \n",
              "4                                                 {}  True   \n",
              "\n",
              "                                          categories      city  review_count  \\\n",
              "0  [Active Life, Arts & Entertainment, Stadiums &...   Phoenix            29   \n",
              "1  [Tires, Automotive, Fashion, Shopping, Departm...  Glendale             3   \n",
              "2  [Women's Clothing, Men's Clothing, Fashion, Sh...     Tempe             7   \n",
              "3     [Pet Services, Pet Boarding/Pet Sitting, Pets]  Chandler             4   \n",
              "4                              [Veterinarians, Pets]   Phoenix             3   \n",
              "\n",
              "                            name neighborhoods   longitude state  stars  \\\n",
              "0      Turf Paradise Race Course            [] -112.092329    AZ    4.0   \n",
              "1        Sam's Club Members Only            [] -112.234755    AZ    3.5   \n",
              "2                     Forever 21            [] -111.964485    AZ    3.5   \n",
              "3          Loving Hands Pet Care            [] -111.857818    AZ    5.0   \n",
              "4  Amec Mid-City Animal Hospital            [] -112.097232    AZ    5.0   \n",
              "\n",
              "    latitude                                         attributes      type  \n",
              "0  33.638573  {'Take-out': False, 'Wi-Fi': 'free', 'Good For...  business  \n",
              "1  33.648545  {'Parking': {'garage': False, 'street': False,...  business  \n",
              "2  33.383123  {'Parking': {'garage': False, 'street': False,...  business  \n",
              "3  33.356472                                                 {}  business  \n",
              "4  33.538493                                                 {}  business  "
            ],
            "text/html": [
              "\n",
              "  <div id=\"df-7bff3602-cb6e-42e8-b681-9b293967e53e\">\n",
              "    <div class=\"colab-df-container\">\n",
              "      <div>\n",
              "<style scoped>\n",
              "    .dataframe tbody tr th:only-of-type {\n",
              "        vertical-align: middle;\n",
              "    }\n",
              "\n",
              "    .dataframe tbody tr th {\n",
              "        vertical-align: top;\n",
              "    }\n",
              "\n",
              "    .dataframe thead th {\n",
              "        text-align: right;\n",
              "    }\n",
              "</style>\n",
              "<table border=\"1\" class=\"dataframe\">\n",
              "  <thead>\n",
              "    <tr style=\"text-align: right;\">\n",
              "      <th></th>\n",
              "      <th>business_id</th>\n",
              "      <th>full_address</th>\n",
              "      <th>hours</th>\n",
              "      <th>open</th>\n",
              "      <th>categories</th>\n",
              "      <th>city</th>\n",
              "      <th>review_count</th>\n",
              "      <th>name</th>\n",
              "      <th>neighborhoods</th>\n",
              "      <th>longitude</th>\n",
              "      <th>state</th>\n",
              "      <th>stars</th>\n",
              "      <th>latitude</th>\n",
              "      <th>attributes</th>\n",
              "      <th>type</th>\n",
              "    </tr>\n",
              "  </thead>\n",
              "  <tbody>\n",
              "    <tr>\n",
              "      <th>0</th>\n",
              "      <td>O_X3PGhk3Y5JWVi866qlJg</td>\n",
              "      <td>1501 W Bell Rd\\nPhoenix, AZ 85023</td>\n",
              "      <td>{'Monday': {'close': '18:00', 'open': '11:00'}...</td>\n",
              "      <td>True</td>\n",
              "      <td>[Active Life, Arts &amp; Entertainment, Stadiums &amp;...</td>\n",
              "      <td>Phoenix</td>\n",
              "      <td>29</td>\n",
              "      <td>Turf Paradise Race Course</td>\n",
              "      <td>[]</td>\n",
              "      <td>-112.092329</td>\n",
              "      <td>AZ</td>\n",
              "      <td>4.0</td>\n",
              "      <td>33.638573</td>\n",
              "      <td>{'Take-out': False, 'Wi-Fi': 'free', 'Good For...</td>\n",
              "      <td>business</td>\n",
              "    </tr>\n",
              "    <tr>\n",
              "      <th>1</th>\n",
              "      <td>QbrM7wqtmoNncqjc6GtFaQ</td>\n",
              "      <td>18501 N 83rd Avenue\\nGlendale, AZ 85308</td>\n",
              "      <td>{}</td>\n",
              "      <td>True</td>\n",
              "      <td>[Tires, Automotive, Fashion, Shopping, Departm...</td>\n",
              "      <td>Glendale</td>\n",
              "      <td>3</td>\n",
              "      <td>Sam's Club Members Only</td>\n",
              "      <td>[]</td>\n",
              "      <td>-112.234755</td>\n",
              "      <td>AZ</td>\n",
              "      <td>3.5</td>\n",
              "      <td>33.648545</td>\n",
              "      <td>{'Parking': {'garage': False, 'street': False,...</td>\n",
              "      <td>business</td>\n",
              "    </tr>\n",
              "    <tr>\n",
              "      <th>2</th>\n",
              "      <td>7lbvsGKzhjuX3oJtaXJvOg</td>\n",
              "      <td>5000 S Arizona Mills Cir\\nSte 590\\nTempe, AZ 8...</td>\n",
              "      <td>{'Monday': {'close': '21:00', 'open': '10:00'}...</td>\n",
              "      <td>True</td>\n",
              "      <td>[Women's Clothing, Men's Clothing, Fashion, Sh...</td>\n",
              "      <td>Tempe</td>\n",
              "      <td>7</td>\n",
              "      <td>Forever 21</td>\n",
              "      <td>[]</td>\n",
              "      <td>-111.964485</td>\n",
              "      <td>AZ</td>\n",
              "      <td>3.5</td>\n",
              "      <td>33.383123</td>\n",
              "      <td>{'Parking': {'garage': False, 'street': False,...</td>\n",
              "      <td>business</td>\n",
              "    </tr>\n",
              "    <tr>\n",
              "      <th>3</th>\n",
              "      <td>gjxoKVsRJwEoa8zd9XxlAw</td>\n",
              "      <td>912 W Sycamore Pl\\nChandler, AZ 85225</td>\n",
              "      <td>{'Monday': {'close': '19:00', 'open': '06:00'}...</td>\n",
              "      <td>True</td>\n",
              "      <td>[Pet Services, Pet Boarding/Pet Sitting, Pets]</td>\n",
              "      <td>Chandler</td>\n",
              "      <td>4</td>\n",
              "      <td>Loving Hands Pet Care</td>\n",
              "      <td>[]</td>\n",
              "      <td>-111.857818</td>\n",
              "      <td>AZ</td>\n",
              "      <td>5.0</td>\n",
              "      <td>33.356472</td>\n",
              "      <td>{}</td>\n",
              "      <td>business</td>\n",
              "    </tr>\n",
              "    <tr>\n",
              "      <th>4</th>\n",
              "      <td>V28yjMqyZnbCtabroJN_aA</td>\n",
              "      <td>1745 W Glendale Ave\\nPhoenix, AZ 85021</td>\n",
              "      <td>{}</td>\n",
              "      <td>True</td>\n",
              "      <td>[Veterinarians, Pets]</td>\n",
              "      <td>Phoenix</td>\n",
              "      <td>3</td>\n",
              "      <td>Amec Mid-City Animal Hospital</td>\n",
              "      <td>[]</td>\n",
              "      <td>-112.097232</td>\n",
              "      <td>AZ</td>\n",
              "      <td>5.0</td>\n",
              "      <td>33.538493</td>\n",
              "      <td>{}</td>\n",
              "      <td>business</td>\n",
              "    </tr>\n",
              "  </tbody>\n",
              "</table>\n",
              "</div>\n",
              "      <button class=\"colab-df-convert\" onclick=\"convertToInteractive('df-7bff3602-cb6e-42e8-b681-9b293967e53e')\"\n",
              "              title=\"Convert this dataframe to an interactive table.\"\n",
              "              style=\"display:none;\">\n",
              "        \n",
              "  <svg xmlns=\"http://www.w3.org/2000/svg\" height=\"24px\"viewBox=\"0 0 24 24\"\n",
              "       width=\"24px\">\n",
              "    <path d=\"M0 0h24v24H0V0z\" fill=\"none\"/>\n",
              "    <path d=\"M18.56 5.44l.94 2.06.94-2.06 2.06-.94-2.06-.94-.94-2.06-.94 2.06-2.06.94zm-11 1L8.5 8.5l.94-2.06 2.06-.94-2.06-.94L8.5 2.5l-.94 2.06-2.06.94zm10 10l.94 2.06.94-2.06 2.06-.94-2.06-.94-.94-2.06-.94 2.06-2.06.94z\"/><path d=\"M17.41 7.96l-1.37-1.37c-.4-.4-.92-.59-1.43-.59-.52 0-1.04.2-1.43.59L10.3 9.45l-7.72 7.72c-.78.78-.78 2.05 0 2.83L4 21.41c.39.39.9.59 1.41.59.51 0 1.02-.2 1.41-.59l7.78-7.78 2.81-2.81c.8-.78.8-2.07 0-2.86zM5.41 20L4 18.59l7.72-7.72 1.47 1.35L5.41 20z\"/>\n",
              "  </svg>\n",
              "      </button>\n",
              "      \n",
              "  <style>\n",
              "    .colab-df-container {\n",
              "      display:flex;\n",
              "      flex-wrap:wrap;\n",
              "      gap: 12px;\n",
              "    }\n",
              "\n",
              "    .colab-df-convert {\n",
              "      background-color: #E8F0FE;\n",
              "      border: none;\n",
              "      border-radius: 50%;\n",
              "      cursor: pointer;\n",
              "      display: none;\n",
              "      fill: #1967D2;\n",
              "      height: 32px;\n",
              "      padding: 0 0 0 0;\n",
              "      width: 32px;\n",
              "    }\n",
              "\n",
              "    .colab-df-convert:hover {\n",
              "      background-color: #E2EBFA;\n",
              "      box-shadow: 0px 1px 2px rgba(60, 64, 67, 0.3), 0px 1px 3px 1px rgba(60, 64, 67, 0.15);\n",
              "      fill: #174EA6;\n",
              "    }\n",
              "\n",
              "    [theme=dark] .colab-df-convert {\n",
              "      background-color: #3B4455;\n",
              "      fill: #D2E3FC;\n",
              "    }\n",
              "\n",
              "    [theme=dark] .colab-df-convert:hover {\n",
              "      background-color: #434B5C;\n",
              "      box-shadow: 0px 1px 3px 1px rgba(0, 0, 0, 0.15);\n",
              "      filter: drop-shadow(0px 1px 2px rgba(0, 0, 0, 0.3));\n",
              "      fill: #FFFFFF;\n",
              "    }\n",
              "  </style>\n",
              "\n",
              "      <script>\n",
              "        const buttonEl =\n",
              "          document.querySelector('#df-7bff3602-cb6e-42e8-b681-9b293967e53e button.colab-df-convert');\n",
              "        buttonEl.style.display =\n",
              "          google.colab.kernel.accessAllowed ? 'block' : 'none';\n",
              "\n",
              "        async function convertToInteractive(key) {\n",
              "          const element = document.querySelector('#df-7bff3602-cb6e-42e8-b681-9b293967e53e');\n",
              "          const dataTable =\n",
              "            await google.colab.kernel.invokeFunction('convertToInteractive',\n",
              "                                                     [key], {});\n",
              "          if (!dataTable) return;\n",
              "\n",
              "          const docLinkHtml = 'Like what you see? Visit the ' +\n",
              "            '<a target=\"_blank\" href=https://colab.research.google.com/notebooks/data_table.ipynb>data table notebook</a>'\n",
              "            + ' to learn more about interactive tables.';\n",
              "          element.innerHTML = '';\n",
              "          dataTable['output_type'] = 'display_data';\n",
              "          await google.colab.output.renderOutput(dataTable, element);\n",
              "          const docLink = document.createElement('div');\n",
              "          docLink.innerHTML = docLinkHtml;\n",
              "          element.appendChild(docLink);\n",
              "        }\n",
              "      </script>\n",
              "    </div>\n",
              "  </div>\n",
              "  "
            ]
          },
          "metadata": {},
          "execution_count": 44
        }
      ],
      "source": [
        "biz_df.head()"
      ]
    },
    {
      "cell_type": "code",
      "execution_count": 45,
      "id": "946187b6",
      "metadata": {
        "id": "946187b6",
        "outputId": "fe2c354d-f6c4-4ce8-b194-042eb14ad618",
        "colab": {
          "base_uri": "https://localhost:8080/"
        }
      },
      "outputs": [
        {
          "output_type": "execute_result",
          "data": {
            "text/plain": [
              "0.1     3.0\n",
              "0.2     3.0\n",
              "0.3     4.0\n",
              "0.4     5.0\n",
              "0.5     6.0\n",
              "0.6     8.0\n",
              "0.7    13.0\n",
              "0.8    24.0\n",
              "0.9    56.0\n",
              "Name: review_count, dtype: float64"
            ]
          },
          "metadata": {},
          "execution_count": 45
        }
      ],
      "source": [
        "deciles = biz_df['review_count'].quantile([.1, .2, .3, .4, .5, .6, .7, .8, .9]) \n",
        "deciles "
      ]
    },
    {
      "cell_type": "code",
      "execution_count": 46,
      "id": "8e47a9e3",
      "metadata": {
        "id": "8e47a9e3",
        "outputId": "97dc44a2-9974-4a0c-a101-409cd937635a",
        "colab": {
          "base_uri": "https://localhost:8080/",
          "height": 459
        }
      },
      "outputs": [
        {
          "output_type": "display_data",
          "data": {
            "text/plain": [
              "<Figure size 720x504 with 1 Axes>"
            ],
            "image/png": "[encoded data removed]"
          },
          "metadata": {}
        }
      ],
      "source": [
        "sns.set_style('whitegrid')\n",
        "fig, ax = plt.subplots(figsize=(10, 7))\n",
        "biz_df['review_count'].hist(ax=ax, bins=100, edgecolor='black') \n",
        "for pos in deciles:\n",
        "    handle = plt.axvline(pos, color='r')\n",
        "ax.legend([handle], ['deciles'], fontsize=16) \n",
        "ax.set_xscale('log')\n",
        "ax.set_yscale('log')\n",
        "ax.tick_params(labelsize=16)\n",
        "_ = ax.set_xlabel('Review Count', fontsize=16) \n",
        "_ = ax.set_ylabel('Occurrence', fontsize=16)"
      ]
    },
    {
      "cell_type": "markdown",
      "id": "67f8d0d5",
      "metadata": {
        "id": "67f8d0d5"
      },
      "source": [
        "## Task 2. Computing the quantiles of the number of athletes from each country and visualizing the histogram (data was used in task 1). Applying log transform on the number of athletes and visualizing the histogram again."
      ]
    },
    {
      "cell_type": "code",
      "execution_count": 47,
      "id": "0594fb11",
      "metadata": {
        "id": "0594fb11",
        "colab": {
          "base_uri": "https://localhost:8080/",
          "height": 373
        },
        "outputId": "188e4f8a-8ab8-4d5e-ae96-6a347adfabc3"
      },
      "outputs": [
        {
          "output_type": "stream",
          "name": "stderr",
          "text": [
            "/usr/local/lib/python3.7/dist-packages/pandas/core/arraylike.py:364: RuntimeWarning: divide by zero encountered in log10\n",
            "  result = getattr(ufunc, method)(*inputs, **kwargs)\n"
          ]
        },
        {
          "output_type": "execute_result",
          "data": {
            "text/plain": [
              "Text(0, 0.5, 'Number of Countries')"
            ]
          },
          "metadata": {},
          "execution_count": 47
        },
        {
          "output_type": "display_data",
          "data": {
            "text/plain": [
              "<Figure size 720x720 with 1 Axes>"
            ],
            "image/png": "[encoded data removed]"
          },
          "metadata": {}
        }
      ],
      "source": [
        "# write the code here\n",
        "pd.qcut(df['encoded_noc'], 4, labels=False)\n",
        "atheletics_coun= pd.Series(df['encoded_noc']) \n",
        "atheletics_coun_quan=atheletics_coun.quantile([0.25, 0.5, 0.75])\n",
        "df['log_tran_atheletics_country']=np.log10(df['encoded_noc'])\n",
        "plt.figure(figsize=(10, 10))\n",
        "ax = plt.subplot(2,1,1)\n",
        "\n",
        "df['encoded_noc'].hist(ax=ax, bins=4)\n",
        "for quan in atheletics_coun_quan:\n",
        "    quan_plot = plt.axvline(quan, color='black')\n",
        "ax.legend([quan_plot], ['Quantiles'], fontsize=16) \n",
        "ax.tick_params(labelsize=16)\n",
        "ax.set_xlabel('Number of Athletes', fontsize=16)\n",
        "ax.set_ylabel('Number of Countries', fontsize=16)\n",
        "\n",
        "\n"
      ]
    },
    {
      "cell_type": "code",
      "source": [
        "df['encoded_noc']"
      ],
      "metadata": {
        "colab": {
          "base_uri": "https://localhost:8080/"
        },
        "id": "ND9zoCFDNomX",
        "outputId": "6bb4cbd7-9f58-44d2-accd-1ef776099aae"
      },
      "id": "ND9zoCFDNomX",
      "execution_count": 48,
      "outputs": [
        {
          "output_type": "execute_result",
          "data": {
            "text/plain": [
              "0        136\n",
              "1        174\n",
              "2         92\n",
              "3        174\n",
              "4        174\n",
              "        ... \n",
              "11080     71\n",
              "11081    147\n",
              "11082    151\n",
              "11083    151\n",
              "11084    147\n",
              "Name: encoded_noc, Length: 11085, dtype: int64"
            ]
          },
          "metadata": {},
          "execution_count": 48
        }
      ]
    },
    {
      "cell_type": "code",
      "source": [
        "df['log_tran_atheletics_coun'] = df['log_tran_atheletics_country'].replace(df['log_tran_atheletics_country'][448], 0)"
      ],
      "metadata": {
        "id": "GANkwmrAI_FC"
      },
      "id": "GANkwmrAI_FC",
      "execution_count": 49,
      "outputs": []
    },
    {
      "cell_type": "code",
      "source": [
        "df['log_tran_atheletics_coun'][0:449]"
      ],
      "metadata": {
        "colab": {
          "base_uri": "https://localhost:8080/"
        },
        "id": "4m8n_MnMTSRg",
        "outputId": "06ed8f2c-79d0-42e7-89de-7008b96c4366"
      },
      "id": "4m8n_MnMTSRg",
      "execution_count": 50,
      "outputs": [
        {
          "output_type": "execute_result",
          "data": {
            "text/plain": [
              "0      2.133539\n",
              "1      2.240549\n",
              "2      1.963788\n",
              "3      2.240549\n",
              "4      2.240549\n",
              "         ...   \n",
              "444    1.681241\n",
              "445    2.079181\n",
              "446    2.089905\n",
              "447    2.252853\n",
              "448    0.000000\n",
              "Name: log_tran_atheletics_coun, Length: 449, dtype: float64"
            ]
          },
          "metadata": {},
          "execution_count": 50
        }
      ]
    },
    {
      "cell_type": "code",
      "source": [
        "ax = plt.subplot(2,1,2)\n",
        "df['log_tran_atheletics_coun'].hist(ax=ax, bins=100)\n",
        "\n",
        "ax.tick_params(labelsize=16)\n",
        "ax.set_xlabel('Number of Athletes', fontsize=16)\n",
        "ax.set_ylabel('Number of Countries', fontsize=16)\n"
      ],
      "metadata": {
        "colab": {
          "base_uri": "https://localhost:8080/",
          "height": 225
        },
        "id": "n6EcUgT4I-IG",
        "outputId": "44582c3a-6be8-43cf-8eab-f1f9ecd80ce8"
      },
      "id": "n6EcUgT4I-IG",
      "execution_count": 51,
      "outputs": [
        {
          "output_type": "execute_result",
          "data": {
            "text/plain": [
              "Text(0, 0.5, 'Number of Countries')"
            ]
          },
          "metadata": {},
          "execution_count": 51
        },
        {
          "output_type": "display_data",
          "data": {
            "text/plain": [
              "<Figure size 432x288 with 1 Axes>"
            ],
            "image/png": "[encoded data removed]"
          },
          "metadata": {}
        }
      ]
    },
    {
      "cell_type": "markdown",
      "id": "e31cc688",
      "metadata": {
        "id": "e31cc688"
      },
      "source": [
        "## Question 1. Comparing the histograms before and after applying log transform and answer the question: why do we need to apply log transform on some data?"
      ]
    },
    {
      "cell_type": "markdown",
      "id": "37a6431d",
      "metadata": {
        "id": "37a6431d"
      },
      "source": [
        "**Answer to Q1**: Type your answer here"
      ]
    },
    {
      "cell_type": "markdown",
      "source": [
        "The purpose to apply the log transform is\n",
        "**Easy to use**:it is more practical to use the modified data it looks natural as the original data.it's also  help the algorithm learn better and gives the accurate result and also it's makes the additive and the linear models looks better.its always better to use the logtransform because it's reduces the negative effect of the learning algorithm with the values in the range[small values and the bigvalues]\n",
        "**Reduce Skewness**\n",
        "Its reduces the skewness of the data distribution and also this make the data to looks Normal.In the real world purposes we see that data looks right skewed(large values in distribution) and left skewed (smaller values in distribution).so its always good that the data is symmetric distribution and we use the logarithms ,square roots to reduce the right skewness  and we apply the squares,cubes to reduce the left skewness to look the data better.\n",
        "**Improves Models**\n",
        "By applying the transformations the model performances increases.so, here we reduce the log loss.\n",
        "By applying the transformation it helps to find the patterns in data.we can easily find the relationship if it is linear rather the Curves.\n",
        "\n"
      ],
      "metadata": {
        "id": "UNQk-4XxNNu3"
      },
      "id": "UNQk-4XxNNu3"
    },
    {
      "cell_type": "markdown",
      "id": "3f63fa4e",
      "metadata": {
        "id": "3f63fa4e"
      },
      "source": [
        "---\n"
      ]
    },
    {
      "cell_type": "markdown",
      "id": "1eefd91e",
      "metadata": {
        "id": "1eefd91e"
      },
      "source": [
        "## **(Tutorial) Box-Cox transform**"
      ]
    },
    {
      "cell_type": "code",
      "execution_count": 52,
      "id": "e4818c6c",
      "metadata": {
        "id": "e4818c6c"
      },
      "outputs": [],
      "source": [
        "x = np.arange(0.001, 3, 0.01)\n",
        "lambda0 = np.log(x)\n",
        "one_quarter = (x**0.25 - 1)/0.25\n",
        "square_root = (x**0.5 - 1)/0.5\n",
        "three_quarters = (x**0.75 - 1)/0.75\n",
        "one_point_five = (x**1.5 - 1)/1.5"
      ]
    },
    {
      "cell_type": "code",
      "execution_count": 53,
      "id": "83a4d38a",
      "metadata": {
        "id": "83a4d38a",
        "outputId": "4b07df7a-b4ce-450c-93ed-b8987f03f6a7",
        "colab": {
          "base_uri": "https://localhost:8080/",
          "height": 487
        }
      },
      "outputs": [
        {
          "output_type": "execute_result",
          "data": {
            "text/plain": [
              "Text(0.5, 1.0, 'Box-Cox Transforms')"
            ]
          },
          "metadata": {},
          "execution_count": 53
        },
        {
          "output_type": "display_data",
          "data": {
            "text/plain": [
              "<Figure size 720x504 with 1 Axes>"
            ],
            "image/png": "[encoded data removed]"
          },
          "metadata": {}
        }
      ],
      "source": [
        "fig, ax = plt.subplots(figsize=(10, 7))\n",
        "plt.plot(x, lambda0, 'c', \n",
        "         x, one_quarter, 'r--', \n",
        "         x, square_root, 'g-.', \n",
        "         x, three_quarters, 'b:',\n",
        "         x, one_point_five, 'k')\n",
        "plt.legend(['lambda = 0', 'lambda = 0.25', 'lambda = 0.5', 'lambda = 0.75', 'lambda = 1.5'], \n",
        "           loc='lower right',\n",
        "           prop={'size': 14})\n",
        "ax.tick_params(labelsize=14)\n",
        "ax.set_xlim([0.0,3.0])\n",
        "ax.set_xlabel('x', fontsize=14)\n",
        "ax.set_ylabel('y', fontsize=14)\n",
        "ax.set_title('Box-Cox Transforms', fontsize=14)"
      ]
    },
    {
      "cell_type": "markdown",
      "id": "add36310",
      "metadata": {
        "id": "add36310"
      },
      "source": [
        "## Example: Visualizing the histograms of original, log transformed, and Box-Cox transformed review counts"
      ]
    },
    {
      "cell_type": "code",
      "execution_count": 54,
      "id": "b56a9763",
      "metadata": {
        "id": "b56a9763"
      },
      "outputs": [],
      "source": [
        "from scipy import stats"
      ]
    },
    {
      "cell_type": "code",
      "execution_count": 55,
      "id": "714deac4",
      "metadata": {
        "id": "714deac4"
      },
      "outputs": [],
      "source": [
        "rc_log = stats.boxcox(biz_df['review_count'], lmbda=0)\n",
        "rc_bc, bc_params = stats.boxcox(biz_df['review_count'])\n",
        "biz_df['rc_bc'] = rc_bc\n",
        "biz_df['rc_log'] = rc_log"
      ]
    },
    {
      "cell_type": "code",
      "execution_count": 56,
      "id": "77d11246",
      "metadata": {
        "id": "77d11246",
        "outputId": "3aae313f-7495-44c4-faff-a10715320290",
        "colab": {
          "base_uri": "https://localhost:8080/",
          "height": 849
        }
      },
      "outputs": [
        {
          "output_type": "execute_result",
          "data": {
            "text/plain": [
              "Text(0, 0.5, 'Occurrence')"
            ]
          },
          "metadata": {},
          "execution_count": 56
        },
        {
          "output_type": "display_data",
          "data": {
            "text/plain": [
              "<Figure size 720x1008 with 3 Axes>"
            ],
            "image/png": "[encoded data removed]"
          },
          "metadata": {}
        }
      ],
      "source": [
        "fig, (ax1, ax2, ax3) = plt.subplots(3,1, figsize=(10, 14))\n",
        "\n",
        "# 원본 리뷰 카운트 히스토그램\n",
        "biz_df['review_count'].hist(ax=ax1, bins=100)\n",
        "ax1.set_yscale('log')\n",
        "ax1.tick_params(labelsize=14)\n",
        "ax1.set_title('Review Counts Histogram', fontsize=14)\n",
        "ax1.set_xlabel('')\n",
        "ax1.set_ylabel('Occurrence', fontsize=14)\n",
        "\n",
        "# 로그 변환된 리뷰 카운트\n",
        "biz_df['rc_log'].hist(ax=ax2, bins=100)\n",
        "ax2.set_yscale('log')\n",
        "ax2.tick_params(labelsize=14)\n",
        "ax2.set_title('Log Transformed Counts Histogram', fontsize=14)\n",
        "ax2.set_xlabel('')\n",
        "ax2.set_ylabel('Occurrence', fontsize=14)\n",
        "\n",
        "# Box-Cox 변환된 리뷰 카운트\n",
        "biz_df['rc_bc'].hist(ax=ax3, bins=100)\n",
        "ax3.set_yscale('log')\n",
        "ax3.tick_params(labelsize=14)\n",
        "ax3.set_title('Box-Cox Transformed Counts Histogram', fontsize=14)\n",
        "ax3.set_xlabel('')\n",
        "ax3.set_ylabel('Occurrence', fontsize=14)"
      ]
    },
    {
      "cell_type": "markdown",
      "id": "cb20c0ec",
      "metadata": {
        "id": "cb20c0ec"
      },
      "source": [
        "## **Task 3. Visualizing the histograms of original, log transformed, and Box-Cox transformed athletes numbers (data used in task 1 and task 2)**"
      ]
    },
    {
      "cell_type": "code",
      "source": [
        "from scipy import stats\n",
        "\n",
        "boxCox, boxCox_params = stats.boxcox(country_wise['encoded_noc'])\n",
        "\n",
        "boxCox = pd.Series(boxCox)\n"
      ],
      "metadata": {
        "id": "PTOrGdgKPwQ4"
      },
      "id": "PTOrGdgKPwQ4",
      "execution_count": 57,
      "outputs": []
    },
    {
      "cell_type": "code",
      "execution_count": 58,
      "id": "43df7081",
      "metadata": {
        "id": "43df7081",
        "colab": {
          "base_uri": "https://localhost:8080/",
          "height": 849
        },
        "outputId": "55f1203f-ecee-457c-e904-37b7eb41ef38"
      },
      "outputs": [
        {
          "output_type": "execute_result",
          "data": {
            "text/plain": [
              "Text(0, 0.5, 'Occurrence')"
            ]
          },
          "metadata": {},
          "execution_count": 58
        },
        {
          "output_type": "display_data",
          "data": {
            "text/plain": [
              "<Figure size 720x1008 with 3 Axes>"
            ],
            "image/png": "[encoded data removed]"
          },
          "metadata": {}
        }
      ],
      "source": [
        "# write your code here\n",
        "fig, (ax1, ax2, ax3) = plt.subplots(3,1, figsize=(10, 14))\n",
        "\n",
        "# 원본 리뷰 카운트 히스토그램\n",
        "df['encoded_noc'].hist(ax=ax1, bins=100)\n",
        "ax1.set_yscale('log')\n",
        "ax1.tick_params(labelsize=14)\n",
        "ax1.set_title('Review Counts Histogram', fontsize=14)\n",
        "ax1.set_xlabel('')\n",
        "ax1.set_ylabel('Occurrence', fontsize=14)\n",
        "\n",
        "# 로그 변환된 리뷰 카운트\n",
        "df['log_tran_atheletics_coun'].hist(ax=ax2, bins=100)\n",
        "ax2.set_yscale('log')\n",
        "ax2.tick_params(labelsize=14)\n",
        "ax2.set_title('Log Transformed Counts Histogram', fontsize=14)\n",
        "ax2.set_xlabel('')\n",
        "ax2.set_ylabel('Occurrence', fontsize=14)\n",
        "\n",
        "# Box-Cox 변환된 리뷰 카운트\n",
        "boxCox.hist(ax=ax3, bins=100)\n",
        "ax3.set_yscale('log')\n",
        "ax3.tick_params(labelsize=14)\n",
        "ax3.set_title('Box-Cox Transformed Counts Histogram', fontsize=14)\n",
        "ax3.set_xlabel('')\n",
        "ax3.set_ylabel('Occurrence', fontsize=14)\n"
      ]
    },
    {
      "cell_type": "markdown",
      "id": "56bf63f7",
      "metadata": {
        "id": "56bf63f7"
      },
      "source": [
        "## Question 2. Listing another transform method other than log and box-cox transform. Explain when to use them."
      ]
    },
    {
      "cell_type": "markdown",
      "source": [],
      "metadata": {
        "id": "RJTHUvbQbTZo"
      },
      "id": "RJTHUvbQbTZo"
    },
    {
      "cell_type": "code",
      "source": [],
      "metadata": {
        "id": "vhdr-AgubVLt"
      },
      "id": "vhdr-AgubVLt",
      "execution_count": null,
      "outputs": []
    },
    {
      "cell_type": "markdown",
      "source": [
        "The Different types of Transformation Methods other than log and Box-cox\n",
        "Reciprocal Transformation\n",
        "SquareRoot Transformation\n",
        "Yeo Johnson Transformation\n",
        "**Reciprocal Transformation**\n",
        "if x is the input.in the reciprocal we do 1/x.By applying this transformation on the data.They only have less impact on the shape.\n",
        "This can only use if the data is non-zero values.\n",
        "rec_output=1/data['output']\n",
        "**Square Root Transformation**\n",
        "The main Advantage when compare to Reciprocal we can use this for the zeros values while Reciprocal cannot be used for zero values.And the impact on the data distribution is moderate.\n",
        "sqt_output=data['output']**1/2\n",
        "**Yeo Johnson Transformation**\n",
        "The Yeo Johnson Transformation is just like box Cox transformation and it is one of the oldest Transformation.\n",
        "there is no need that all the values are strictly Positively.\n",
        "This Transformation have the ability the ability to make the distribution symmetric.\n",
        "\n",
        "from scipy.stats import Yeojohnson\n",
        "yeo_output,lt=yeojohnson(data['output'])"
      ],
      "metadata": {
        "id": "AnKO5R2YZ0Ai"
      },
      "id": "AnKO5R2YZ0Ai"
    },
    {
      "cell_type": "code",
      "source": [],
      "metadata": {
        "id": "rCUmPZE5bRYH"
      },
      "id": "rCUmPZE5bRYH",
      "execution_count": null,
      "outputs": []
    },
    {
      "cell_type": "markdown",
      "id": "31358ddf",
      "metadata": {
        "id": "31358ddf"
      },
      "source": [
        "**Answer to Q2:** write your answer here"
      ]
    },
    {
      "cell_type": "markdown",
      "id": "a3e74bfb",
      "metadata": {
        "id": "a3e74bfb"
      },
      "source": [
        "---\n"
      ]
    },
    {
      "cell_type": "markdown",
      "id": "11103c1f",
      "metadata": {
        "id": "11103c1f"
      },
      "source": [
        "## Feature scaling example\n",
        "**Online News Popularity Dataset**: https://archive.ics.uci.edu/ml/machine-learning-databases/00332/OnlineNewsPopularity.zip"
      ]
    },
    {
      "cell_type": "code",
      "source": [
        "!wget https://archive.ics.uci.edu/ml/machine-learning-databases/00332/OnlineNewsPopularity.zip"
      ],
      "metadata": {
        "colab": {
          "base_uri": "https://localhost:8080/"
        },
        "id": "PtzZTJt2dnw-",
        "outputId": "b7f8b697-eafa-4aef-ed93-6f2686f6d4ff"
      },
      "id": "PtzZTJt2dnw-",
      "execution_count": 1,
      "outputs": [
        {
          "output_type": "stream",
          "name": "stdout",
          "text": [
            "--2022-09-21 14:32:23--  https://archive.ics.uci.edu/ml/machine-learning-databases/00332/OnlineNewsPopularity.zip\n",
            "Resolving archive.ics.uci.edu (archive.ics.uci.edu)... 128.195.10.252\n",
            "Connecting to archive.ics.uci.edu (archive.ics.uci.edu)|128.195.10.252|:443... connected.\n",
            "HTTP request sent, awaiting response... 200 OK\n",
            "Length: 7476401 (7.1M) [application/x-httpd-php]\n",
            "Saving to: ‘OnlineNewsPopularity.zip’\n",
            "\n",
            "OnlineNewsPopularit 100%[===================>]   7.13M  11.4MB/s    in 0.6s    \n",
            "\n",
            "2022-09-21 14:32:25 (11.4 MB/s) - ‘OnlineNewsPopularity.zip’ saved [7476401/7476401]\n",
            "\n"
          ]
        }
      ]
    },
    {
      "cell_type": "code",
      "execution_count": 10,
      "id": "3e1609d4",
      "metadata": {
        "id": "3e1609d4"
      },
      "outputs": [],
      "source": [
        "import sklearn.preprocessing as preproc"
      ]
    },
    {
      "cell_type": "code",
      "source": [
        "import zipfile"
      ],
      "metadata": {
        "id": "_-JTlPSmeBLZ"
      },
      "id": "_-JTlPSmeBLZ",
      "execution_count": 11,
      "outputs": []
    },
    {
      "cell_type": "code",
      "source": [
        "data=zipfile.ZipFile(\"/content/OnlineNewsPopularity.zip\",'r')"
      ],
      "metadata": {
        "id": "u1mxS8fbeiee"
      },
      "id": "u1mxS8fbeiee",
      "execution_count": 12,
      "outputs": []
    },
    {
      "cell_type": "code",
      "source": [
        "data.extractall()\n",
        "data.close()"
      ],
      "metadata": {
        "id": "X2RmlCxnerrR"
      },
      "id": "X2RmlCxnerrR",
      "execution_count": 13,
      "outputs": []
    },
    {
      "cell_type": "code",
      "execution_count": 14,
      "id": "f24edaa0",
      "metadata": {
        "id": "f24edaa0",
        "outputId": "dae533cd-8d1b-41ad-8197-20cd3e226759",
        "colab": {
          "base_uri": "https://localhost:8080/",
          "height": 386
        }
      },
      "outputs": [
        {
          "output_type": "execute_result",
          "data": {
            "text/plain": [
              "                                                 url  timedelta  \\\n",
              "0  http://mashable.com/2013/01/07/amazon-instant-...      731.0   \n",
              "1  http://mashable.com/2013/01/07/ap-samsung-spon...      731.0   \n",
              "2  http://mashable.com/2013/01/07/apple-40-billio...      731.0   \n",
              "3  http://mashable.com/2013/01/07/astronaut-notre...      731.0   \n",
              "4   http://mashable.com/2013/01/07/att-u-verse-apps/      731.0   \n",
              "\n",
              "   n_tokens_title  n_tokens_content  n_unique_tokens  n_non_stop_words  \\\n",
              "0            12.0             219.0         0.663594               1.0   \n",
              "1             9.0             255.0         0.604743               1.0   \n",
              "2             9.0             211.0         0.575130               1.0   \n",
              "3             9.0             531.0         0.503788               1.0   \n",
              "4            13.0            1072.0         0.415646               1.0   \n",
              "\n",
              "   n_non_stop_unique_tokens  num_hrefs  num_self_hrefs  num_imgs  ...  \\\n",
              "0                  0.815385        4.0             2.0       1.0  ...   \n",
              "1                  0.791946        3.0             1.0       1.0  ...   \n",
              "2                  0.663866        3.0             1.0       1.0  ...   \n",
              "3                  0.665635        9.0             0.0       1.0  ...   \n",
              "4                  0.540890       19.0            19.0      20.0  ...   \n",
              "\n",
              "   min_positive_polarity  max_positive_polarity  avg_negative_polarity  \\\n",
              "0               0.100000                    0.7              -0.350000   \n",
              "1               0.033333                    0.7              -0.118750   \n",
              "2               0.100000                    1.0              -0.466667   \n",
              "3               0.136364                    0.8              -0.369697   \n",
              "4               0.033333                    1.0              -0.220192   \n",
              "\n",
              "   min_negative_polarity  max_negative_polarity  title_subjectivity  \\\n",
              "0                 -0.600              -0.200000            0.500000   \n",
              "1                 -0.125              -0.100000            0.000000   \n",
              "2                 -0.800              -0.133333            0.000000   \n",
              "3                 -0.600              -0.166667            0.000000   \n",
              "4                 -0.500              -0.050000            0.454545   \n",
              "\n",
              "   title_sentiment_polarity  abs_title_subjectivity  \\\n",
              "0                 -0.187500                0.000000   \n",
              "1                  0.000000                0.500000   \n",
              "2                  0.000000                0.500000   \n",
              "3                  0.000000                0.500000   \n",
              "4                  0.136364                0.045455   \n",
              "\n",
              "   abs_title_sentiment_polarity  shares  \n",
              "0                      0.187500     593  \n",
              "1                      0.000000     711  \n",
              "2                      0.000000    1500  \n",
              "3                      0.000000    1200  \n",
              "4                      0.136364     505  \n",
              "\n",
              "[5 rows x 61 columns]"
            ],
            "text/html": [
              "\n",
              "  <div id=\"df-a78b8e96-2918-4634-9efb-d83223330e99\">\n",
              "    <div class=\"colab-df-container\">\n",
              "      <div>\n",
              "<style scoped>\n",
              "    .dataframe tbody tr th:only-of-type {\n",
              "        vertical-align: middle;\n",
              "    }\n",
              "\n",
              "    .dataframe tbody tr th {\n",
              "        vertical-align: top;\n",
              "    }\n",
              "\n",
              "    .dataframe thead th {\n",
              "        text-align: right;\n",
              "    }\n",
              "</style>\n",
              "<table border=\"1\" class=\"dataframe\">\n",
              "  <thead>\n",
              "    <tr style=\"text-align: right;\">\n",
              "      <th></th>\n",
              "      <th>url</th>\n",
              "      <th>timedelta</th>\n",
              "      <th>n_tokens_title</th>\n",
              "      <th>n_tokens_content</th>\n",
              "      <th>n_unique_tokens</th>\n",
              "      <th>n_non_stop_words</th>\n",
              "      <th>n_non_stop_unique_tokens</th>\n",
              "      <th>num_hrefs</th>\n",
              "      <th>num_self_hrefs</th>\n",
              "      <th>num_imgs</th>\n",
              "      <th>...</th>\n",
              "      <th>min_positive_polarity</th>\n",
              "      <th>max_positive_polarity</th>\n",
              "      <th>avg_negative_polarity</th>\n",
              "      <th>min_negative_polarity</th>\n",
              "      <th>max_negative_polarity</th>\n",
              "      <th>title_subjectivity</th>\n",
              "      <th>title_sentiment_polarity</th>\n",
              "      <th>abs_title_subjectivity</th>\n",
              "      <th>abs_title_sentiment_polarity</th>\n",
              "      <th>shares</th>\n",
              "    </tr>\n",
              "  </thead>\n",
              "  <tbody>\n",
              "    <tr>\n",
              "      <th>0</th>\n",
              "      <td>http://mashable.com/2013/01/07/amazon-instant-...</td>\n",
              "      <td>731.0</td>\n",
              "      <td>12.0</td>\n",
              "      <td>219.0</td>\n",
              "      <td>0.663594</td>\n",
              "      <td>1.0</td>\n",
              "      <td>0.815385</td>\n",
              "      <td>4.0</td>\n",
              "      <td>2.0</td>\n",
              "      <td>1.0</td>\n",
              "      <td>...</td>\n",
              "      <td>0.100000</td>\n",
              "      <td>0.7</td>\n",
              "      <td>-0.350000</td>\n",
              "      <td>-0.600</td>\n",
              "      <td>-0.200000</td>\n",
              "      <td>0.500000</td>\n",
              "      <td>-0.187500</td>\n",
              "      <td>0.000000</td>\n",
              "      <td>0.187500</td>\n",
              "      <td>593</td>\n",
              "    </tr>\n",
              "    <tr>\n",
              "      <th>1</th>\n",
              "      <td>http://mashable.com/2013/01/07/ap-samsung-spon...</td>\n",
              "      <td>731.0</td>\n",
              "      <td>9.0</td>\n",
              "      <td>255.0</td>\n",
              "      <td>0.604743</td>\n",
              "      <td>1.0</td>\n",
              "      <td>0.791946</td>\n",
              "      <td>3.0</td>\n",
              "      <td>1.0</td>\n",
              "      <td>1.0</td>\n",
              "      <td>...</td>\n",
              "      <td>0.033333</td>\n",
              "      <td>0.7</td>\n",
              "      <td>-0.118750</td>\n",
              "      <td>-0.125</td>\n",
              "      <td>-0.100000</td>\n",
              "      <td>0.000000</td>\n",
              "      <td>0.000000</td>\n",
              "      <td>0.500000</td>\n",
              "      <td>0.000000</td>\n",
              "      <td>711</td>\n",
              "    </tr>\n",
              "    <tr>\n",
              "      <th>2</th>\n",
              "      <td>http://mashable.com/2013/01/07/apple-40-billio...</td>\n",
              "      <td>731.0</td>\n",
              "      <td>9.0</td>\n",
              "      <td>211.0</td>\n",
              "      <td>0.575130</td>\n",
              "      <td>1.0</td>\n",
              "      <td>0.663866</td>\n",
              "      <td>3.0</td>\n",
              "      <td>1.0</td>\n",
              "      <td>1.0</td>\n",
              "      <td>...</td>\n",
              "      <td>0.100000</td>\n",
              "      <td>1.0</td>\n",
              "      <td>-0.466667</td>\n",
              "      <td>-0.800</td>\n",
              "      <td>-0.133333</td>\n",
              "      <td>0.000000</td>\n",
              "      <td>0.000000</td>\n",
              "      <td>0.500000</td>\n",
              "      <td>0.000000</td>\n",
              "      <td>1500</td>\n",
              "    </tr>\n",
              "    <tr>\n",
              "      <th>3</th>\n",
              "      <td>http://mashable.com/2013/01/07/astronaut-notre...</td>\n",
              "      <td>731.0</td>\n",
              "      <td>9.0</td>\n",
              "      <td>531.0</td>\n",
              "      <td>0.503788</td>\n",
              "      <td>1.0</td>\n",
              "      <td>0.665635</td>\n",
              "      <td>9.0</td>\n",
              "      <td>0.0</td>\n",
              "      <td>1.0</td>\n",
              "      <td>...</td>\n",
              "      <td>0.136364</td>\n",
              "      <td>0.8</td>\n",
              "      <td>-0.369697</td>\n",
              "      <td>-0.600</td>\n",
              "      <td>-0.166667</td>\n",
              "      <td>0.000000</td>\n",
              "      <td>0.000000</td>\n",
              "      <td>0.500000</td>\n",
              "      <td>0.000000</td>\n",
              "      <td>1200</td>\n",
              "    </tr>\n",
              "    <tr>\n",
              "      <th>4</th>\n",
              "      <td>http://mashable.com/2013/01/07/att-u-verse-apps/</td>\n",
              "      <td>731.0</td>\n",
              "      <td>13.0</td>\n",
              "      <td>1072.0</td>\n",
              "      <td>0.415646</td>\n",
              "      <td>1.0</td>\n",
              "      <td>0.540890</td>\n",
              "      <td>19.0</td>\n",
              "      <td>19.0</td>\n",
              "      <td>20.0</td>\n",
              "      <td>...</td>\n",
              "      <td>0.033333</td>\n",
              "      <td>1.0</td>\n",
              "      <td>-0.220192</td>\n",
              "      <td>-0.500</td>\n",
              "      <td>-0.050000</td>\n",
              "      <td>0.454545</td>\n",
              "      <td>0.136364</td>\n",
              "      <td>0.045455</td>\n",
              "      <td>0.136364</td>\n",
              "      <td>505</td>\n",
              "    </tr>\n",
              "  </tbody>\n",
              "</table>\n",
              "<p>5 rows × 61 columns</p>\n",
              "</div>\n",
              "      <button class=\"colab-df-convert\" onclick=\"convertToInteractive('df-a78b8e96-2918-4634-9efb-d83223330e99')\"\n",
              "              title=\"Convert this dataframe to an interactive table.\"\n",
              "              style=\"display:none;\">\n",
              "        \n",
              "  <svg xmlns=\"http://www.w3.org/2000/svg\" height=\"24px\"viewBox=\"0 0 24 24\"\n",
              "       width=\"24px\">\n",
              "    <path d=\"M0 0h24v24H0V0z\" fill=\"none\"/>\n",
              "    <path d=\"M18.56 5.44l.94 2.06.94-2.06 2.06-.94-2.06-.94-.94-2.06-.94 2.06-2.06.94zm-11 1L8.5 8.5l.94-2.06 2.06-.94-2.06-.94L8.5 2.5l-.94 2.06-2.06.94zm10 10l.94 2.06.94-2.06 2.06-.94-2.06-.94-.94-2.06-.94 2.06-2.06.94z\"/><path d=\"M17.41 7.96l-1.37-1.37c-.4-.4-.92-.59-1.43-.59-.52 0-1.04.2-1.43.59L10.3 9.45l-7.72 7.72c-.78.78-.78 2.05 0 2.83L4 21.41c.39.39.9.59 1.41.59.51 0 1.02-.2 1.41-.59l7.78-7.78 2.81-2.81c.8-.78.8-2.07 0-2.86zM5.41 20L4 18.59l7.72-7.72 1.47 1.35L5.41 20z\"/>\n",
              "  </svg>\n",
              "      </button>\n",
              "      \n",
              "  <style>\n",
              "    .colab-df-container {\n",
              "      display:flex;\n",
              "      flex-wrap:wrap;\n",
              "      gap: 12px;\n",
              "    }\n",
              "\n",
              "    .colab-df-convert {\n",
              "      background-color: #E8F0FE;\n",
              "      border: none;\n",
              "      border-radius: 50%;\n",
              "      cursor: pointer;\n",
              "      display: none;\n",
              "      fill: #1967D2;\n",
              "      height: 32px;\n",
              "      padding: 0 0 0 0;\n",
              "      width: 32px;\n",
              "    }\n",
              "\n",
              "    .colab-df-convert:hover {\n",
              "      background-color: #E2EBFA;\n",
              "      box-shadow: 0px 1px 2px rgba(60, 64, 67, 0.3), 0px 1px 3px 1px rgba(60, 64, 67, 0.15);\n",
              "      fill: #174EA6;\n",
              "    }\n",
              "\n",
              "    [theme=dark] .colab-df-convert {\n",
              "      background-color: #3B4455;\n",
              "      fill: #D2E3FC;\n",
              "    }\n",
              "\n",
              "    [theme=dark] .colab-df-convert:hover {\n",
              "      background-color: #434B5C;\n",
              "      box-shadow: 0px 1px 3px 1px rgba(0, 0, 0, 0.15);\n",
              "      filter: drop-shadow(0px 1px 2px rgba(0, 0, 0, 0.3));\n",
              "      fill: #FFFFFF;\n",
              "    }\n",
              "  </style>\n",
              "\n",
              "      <script>\n",
              "        const buttonEl =\n",
              "          document.querySelector('#df-a78b8e96-2918-4634-9efb-d83223330e99 button.colab-df-convert');\n",
              "        buttonEl.style.display =\n",
              "          google.colab.kernel.accessAllowed ? 'block' : 'none';\n",
              "\n",
              "        async function convertToInteractive(key) {\n",
              "          const element = document.querySelector('#df-a78b8e96-2918-4634-9efb-d83223330e99');\n",
              "          const dataTable =\n",
              "            await google.colab.kernel.invokeFunction('convertToInteractive',\n",
              "                                                     [key], {});\n",
              "          if (!dataTable) return;\n",
              "\n",
              "          const docLinkHtml = 'Like what you see? Visit the ' +\n",
              "            '<a target=\"_blank\" href=https://colab.research.google.com/notebooks/data_table.ipynb>data table notebook</a>'\n",
              "            + ' to learn more about interactive tables.';\n",
              "          element.innerHTML = '';\n",
              "          dataTable['output_type'] = 'display_data';\n",
              "          await google.colab.output.renderOutput(dataTable, element);\n",
              "          const docLink = document.createElement('div');\n",
              "          docLink.innerHTML = docLinkHtml;\n",
              "          element.appendChild(docLink);\n",
              "        }\n",
              "      </script>\n",
              "    </div>\n",
              "  </div>\n",
              "  "
            ]
          },
          "metadata": {},
          "execution_count": 14
        }
      ],
      "source": [
        "news_df = pd.read_csv('/content/OnlineNewsPopularity/OnlineNewsPopularity.csv', delimiter=', ',engine = 'python') \n",
        "news_df.head()"
      ]
    },
    {
      "cell_type": "code",
      "execution_count": 15,
      "id": "11bcb993",
      "metadata": {
        "id": "11bcb993",
        "outputId": "1c4c0982-1b42-458b-b6d1-8c9e6c72cf0d",
        "colab": {
          "base_uri": "https://localhost:8080/"
        }
      },
      "outputs": [
        {
          "output_type": "execute_result",
          "data": {
            "text/plain": [
              "array([0.02584376, 0.03009205, 0.02489969, ..., 0.05215955, 0.08048147,\n",
              "       0.01852726])"
            ]
          },
          "metadata": {},
          "execution_count": 15
        }
      ],
      "source": [
        "# Min-max scaling\n",
        "news_df['minmax'] = preproc.minmax_scale(news_df[['n_tokens_content']])\n",
        "news_df['minmax'].values"
      ]
    },
    {
      "cell_type": "code",
      "execution_count": 16,
      "id": "977dacc1",
      "metadata": {
        "id": "977dacc1",
        "outputId": "f8609375-2c08-40a5-8464-fd406777bfe6",
        "colab": {
          "base_uri": "https://localhost:8080/"
        }
      },
      "outputs": [
        {
          "output_type": "execute_result",
          "data": {
            "text/plain": [
              "array([-0.69521045, -0.61879381, -0.71219192, ..., -0.2218518 ,\n",
              "        0.28759248, -0.82681689])"
            ]
          },
          "metadata": {},
          "execution_count": 16
        }
      ],
      "source": [
        "# Standardization\n",
        "news_df['standardized'] = preproc.StandardScaler().fit_transform(news_df[['n_tokens_content']])\n",
        "news_df['standardized'].values"
      ]
    },
    {
      "cell_type": "code",
      "execution_count": 17,
      "id": "7ecb5209",
      "metadata": {
        "id": "7ecb5209",
        "outputId": "fec249eb-0d4b-4ca2-eeed-448b71d8a067",
        "colab": {
          "base_uri": "https://localhost:8080/"
        }
      },
      "outputs": [
        {
          "output_type": "execute_result",
          "data": {
            "text/plain": [
              "array([0.00152439, 0.00177498, 0.00146871, ..., 0.00307663, 0.0047472 ,\n",
              "       0.00109283])"
            ]
          },
          "metadata": {},
          "execution_count": 17
        }
      ],
      "source": [
        "# L2-normalization\n",
        "news_df['l2_normalized'] = preproc.normalize(news_df[['n_tokens_content']], axis=0)\n",
        "news_df['l2_normalized'].values"
      ]
    },
    {
      "cell_type": "code",
      "execution_count": 18,
      "id": "202535cc",
      "metadata": {
        "id": "202535cc",
        "outputId": "6bdac652-7dc4-4fd9-d2ab-b26cdba15cfb",
        "colab": {
          "base_uri": "https://localhost:8080/",
          "height": 570
        }
      },
      "outputs": [
        {
          "output_type": "execute_result",
          "data": {
            "text/plain": [
              "Text(0.5, 39.49999999999994, 'L2-normalized word count')"
            ]
          },
          "metadata": {},
          "execution_count": 18
        },
        {
          "output_type": "display_data",
          "data": {
            "text/plain": [
              "<Figure size 576x504 with 4 Axes>"
            ],
            "image/png": "[encoded data removed]"
          },
          "metadata": {}
        }
      ],
      "source": [
        "fig, (ax1, ax2, ax3, ax4) = plt.subplots(4,1, figsize=(8, 7))\n",
        "fig.tight_layout(h_pad=2.0)\n",
        "\n",
        "df['n_tokens_content'].hist(ax=ax1, bins=100)\n",
        "ax1.tick_params(labelsize=14)\n",
        "ax1.set_xlabel('Article word count', fontsize=14)\n",
        "ax1.set_ylabel('Number of articles', fontsize=14)\n",
        "\n",
        "news_df['minmax'].hist(ax=ax2, bins=100)\n",
        "ax2.tick_params(labelsize=14)\n",
        "ax2.set_xlabel('Min-max scaled word count', fontsize=14)\n",
        "# ax2.set_ylabel('Number of articles', fontsize=14)\n",
        "\n",
        "news_df['standardized'].hist(ax=ax3, bins=100)\n",
        "ax3.tick_params(labelsize=14)\n",
        "ax3.set_xlabel('Standardized word count', fontsize=14)\n",
        "# ax3.set_ylabel('Number of articles', fontsize=14)\n",
        "\n",
        "news_df['l2_normalized'].hist(ax=ax4, bins=100)\n",
        "ax4.tick_params(labelsize=14)\n",
        "ax4.set_xlabel('L2-normalized word count', fontsize=14)\n",
        "# ax4.set_ylabel('Number of articles', fontsize=14)"
      ]
    },
    {
      "cell_type": "markdown",
      "id": "771b78a4",
      "metadata": {
        "id": "771b78a4"
      },
      "source": [
        "##  Task 4. Visualizing the histograms of original and scaled data (the data used in the previous tasks)"
      ]
    },
    {
      "cell_type": "markdown",
      "source": [
        "#Visualizing the original data"
      ],
      "metadata": {
        "id": "bW-_a8_IlFZV"
      },
      "id": "bW-_a8_IlFZV"
    },
    {
      "cell_type": "code",
      "source": [
        "# Scaling\n",
        "df['minmax']=preproc.minmax_scale(df['encoded_noc'])\n",
        "df['minmax'].values"
      ],
      "metadata": {
        "colab": {
          "base_uri": "https://localhost:8080/"
        },
        "id": "IJU-ob1_kzMI",
        "outputId": "b93fa129-8c38-4343-94ee-3315640b5ed4"
      },
      "id": "IJU-ob1_kzMI",
      "execution_count": 68,
      "outputs": [
        {
          "output_type": "execute_result",
          "data": {
            "text/plain": [
              "array([0.66341463, 0.84878049, 0.44878049, ..., 0.73658537, 0.73658537,\n",
              "       0.71707317])"
            ]
          },
          "metadata": {},
          "execution_count": 68
        }
      ]
    },
    {
      "cell_type": "code",
      "source": [
        "# Standardization\n",
        "df['standardized'] = preproc.StandardScaler().fit_transform(df[['encoded_noc']])\n",
        "df['standardized'].values"
      ],
      "metadata": {
        "colab": {
          "base_uri": "https://localhost:8080/"
        },
        "id": "hbLp8hnqksVs",
        "outputId": "32d0d8ba-e4bf-4590-b51e-6548c30b8cb2"
      },
      "id": "hbLp8hnqksVs",
      "execution_count": 69,
      "outputs": [
        {
          "output_type": "execute_result",
          "data": {
            "text/plain": [
              "array([ 0.5721718 ,  1.22426235, -0.18288041, ...,  0.82957596,\n",
              "        0.82957596,  0.76093485])"
            ]
          },
          "metadata": {},
          "execution_count": 69
        }
      ]
    },
    {
      "cell_type": "code",
      "source": [
        "# L2-normalization\n",
        "df['l2_normalized'] = preproc.normalize(df[['encoded_noc']], axis=0)\n",
        "df['l2_normalized'].values"
      ],
      "metadata": {
        "colab": {
          "base_uri": "https://localhost:8080/"
        },
        "id": "T1W0pnrEk6eZ",
        "outputId": "04ffc46c-22c9-46c8-c422-bcf304c2aca9"
      },
      "id": "T1W0pnrEk6eZ",
      "execution_count": 70,
      "outputs": [
        {
          "output_type": "execute_result",
          "data": {
            "text/plain": [
              "array([0.01094277, 0.01400031, 0.00740246, ..., 0.0121497 , 0.0121497 ,\n",
              "       0.01182785])"
            ]
          },
          "metadata": {},
          "execution_count": 70
        }
      ]
    },
    {
      "cell_type": "code",
      "execution_count": 71,
      "id": "c7c77032",
      "metadata": {
        "id": "c7c77032",
        "colab": {
          "base_uri": "https://localhost:8080/",
          "height": 494
        },
        "outputId": "45dc347f-80d3-47ab-e983-d7c47beb53ae"
      },
      "outputs": [
        {
          "output_type": "execute_result",
          "data": {
            "text/plain": [
              "Text(0.5, 0, 'L2-normalized word count')"
            ]
          },
          "metadata": {},
          "execution_count": 71
        },
        {
          "output_type": "display_data",
          "data": {
            "text/plain": [
              "<Figure size 576x504 with 4 Axes>"
            ],
            "image/png": "[encoded data removed]"
          },
          "metadata": {}
        }
      ],
      "source": [
        "# write your code here\n",
        "ffig, (ax1, ax2, ax3, ax4) = plt.subplots(4,1, figsize=(8, 7))\n",
        "fig.tight_layout(h_pad=2.0)\n",
        "\n",
        "df['encoded_noc'].hist(ax=ax1, bins=100)\n",
        "ax1.tick_params(labelsize=14)\n",
        "ax1.set_xlabel('Article word count', fontsize=14)\n",
        "ax1.set_ylabel('Number of articles', fontsize=14)\n",
        "\n",
        "df['minmax'].hist(ax=ax2, bins=100)\n",
        "ax2.tick_params(labelsize=14)\n",
        "ax2.set_xlabel('Min-max scaled word count', fontsize=14)\n",
        "# ax2.set_ylabel('Number of articles', fontsize=14)\n",
        "\n",
        "df['standardized'].hist(ax=ax3, bins=100)\n",
        "ax3.tick_params(labelsize=14)\n",
        "ax3.set_xlabel('Standardized word count', fontsize=14)\n",
        "# ax3.set_ylabel('Number of articles', fontsize=14)\n",
        "\n",
        "df['l2_normalized'].hist(ax=ax4, bins=100)\n",
        "ax4.tick_params(labelsize=14)\n",
        "ax4.set_xlabel('L2-normalized word count', fontsize=14)\n",
        "# ax4.set_ylabel('Number of articles', fontsize=14)"
      ]
    },
    {
      "cell_type": "markdown",
      "source": [
        "Visualizing Scaled Data"
      ],
      "metadata": {
        "id": "52-XB3SorEB2"
      },
      "id": "52-XB3SorEB2"
    },
    {
      "cell_type": "code",
      "source": [
        "df['minmax_log']=preproc.minmax_scale(df['log_tran_atheletics_coun'])\n",
        "df['minmax_log'].values"
      ],
      "metadata": {
        "id": "7kmOTWhOmEnf"
      },
      "id": "7kmOTWhOmEnf",
      "execution_count": null,
      "outputs": []
    },
    {
      "cell_type": "code",
      "source": [
        "# Standardization\n",
        "df['standardized_log'] = preproc.StandardScaler().fit_transform(df[['log_tran_atheletics_coun']])\n",
        "df['standardized_log'].values"
      ],
      "metadata": {
        "colab": {
          "base_uri": "https://localhost:8080/"
        },
        "id": "c0dwUyO8rL4w",
        "outputId": "60b03dad-2da4-4735-a501-fdc46afbb945"
      },
      "id": "c0dwUyO8rL4w",
      "execution_count": 74,
      "outputs": [
        {
          "output_type": "execute_result",
          "data": {
            "text/plain": [
              "array([0.62034033, 0.89519183, 0.1843419 , ..., 0.737046  , 0.737046  ,\n",
              "       0.70709878])"
            ]
          },
          "metadata": {},
          "execution_count": 74
        }
      ]
    },
    {
      "cell_type": "code",
      "source": [
        "# L2-normalization\n",
        "df['l2_normalized_log'] = preproc.normalize(df[['log_tran_atheletics_coun']], axis=0)\n",
        "df['l2_normalized_log'].values"
      ],
      "metadata": {
        "colab": {
          "base_uri": "https://localhost:8080/"
        },
        "id": "R2Eg-gwhsui_",
        "outputId": "f7466d22-e3cb-4e3b-8f0c-55e4ef8b22e2"
      },
      "id": "R2Eg-gwhsui_",
      "execution_count": 78,
      "outputs": [
        {
          "output_type": "execute_result",
          "data": {
            "text/plain": [
              "array([0.01049064, 0.01101681, 0.00965597, ..., 0.01071406, 0.01071406,\n",
              "       0.01065673])"
            ]
          },
          "metadata": {},
          "execution_count": 78
        }
      ]
    },
    {
      "cell_type": "code",
      "source": [
        "# write your code here\n",
        "ffig, (ax1, ax2, ax3, ax4) = plt.subplots(4,1, figsize=(8, 7))\n",
        "fig.tight_layout(h_pad=2.0)\n",
        "\n",
        "df['log_tran_atheletics_coun'].hist(ax=ax1, bins=100)\n",
        "ax1.tick_params(labelsize=14)\n",
        "ax1.set_xlabel('Article word count', fontsize=14)\n",
        "ax1.set_ylabel('Number of articles', fontsize=14)\n",
        "\n",
        "df['minmax_log'].hist(ax=ax2, bins=100)\n",
        "ax2.tick_params(labelsize=14)\n",
        "ax2.set_xlabel('Min-max scaled word count', fontsize=14)\n",
        "# ax2.set_ylabel('Number of articles', fontsize=14)\n",
        "\n",
        "df['standardized_log'].hist(ax=ax3, bins=100)\n",
        "ax3.tick_params(labelsize=14)\n",
        "ax3.set_xlabel('Standardized word count', fontsize=14)\n",
        "# ax3.set_ylabel('Number of articles', fontsize=14)\n",
        "\n",
        "df['l2_normalized_log'].hist(ax=ax4, bins=100)\n",
        "ax4.tick_params(labelsize=14)\n",
        "ax4.set_xlabel('L2-normalized word count', fontsize=14)\n",
        "# ax4.set_ylabel('Number of articles', fontsize=14)"
      ],
      "metadata": {
        "colab": {
          "base_uri": "https://localhost:8080/",
          "height": 494
        },
        "id": "VLCwBfhRrSLE",
        "outputId": "e59ce3f8-bb1d-4c59-a9e1-0ce8feebb980"
      },
      "id": "VLCwBfhRrSLE",
      "execution_count": 79,
      "outputs": [
        {
          "output_type": "execute_result",
          "data": {
            "text/plain": [
              "Text(0.5, 0, 'L2-normalized word count')"
            ]
          },
          "metadata": {},
          "execution_count": 79
        },
        {
          "output_type": "display_data",
          "data": {
            "text/plain": [
              "<Figure size 576x504 with 4 Axes>"
            ],
            "image/png": "[encoded data removed]"
          },
          "metadata": {}
        }
      ]
    },
    {
      "cell_type": "markdown",
      "id": "0e00f7eb",
      "metadata": {
        "id": "0e00f7eb"
      },
      "source": [
        "## Question 3. Comparing the four histograms, listing the similarities and differences between them."
      ]
    },
    {
      "cell_type": "markdown",
      "id": "f081331a",
      "metadata": {
        "id": "f081331a"
      },
      "source": [
        "**Answer to Q3**: type your answer here"
      ]
    },
    {
      "cell_type": "markdown",
      "source": [
        "**Similarities**\n",
        "\n",
        "in Histograms Data is not Normally distributed after after applying the Min max Standardization,Normalization.\n",
        "\n",
        "in Histograms Data is not Left Skewed and Right Skewed the data is equally Distribued in the plot\n",
        "\n",
        "All the Histograms Looked so similar\n",
        "\n",
        "**Differences**\n",
        "\n",
        "The Horizontal Axis is Different Because we are using Different Scales\n",
        "\n",
        "Like Min max,Standarization,Normaliozation"
      ],
      "metadata": {
        "id": "hH7rHwCxIhBc"
      },
      "id": "hH7rHwCxIhBc"
    },
    {
      "cell_type": "code",
      "source": [],
      "metadata": {
        "id": "YPGwZ-w1Ie8F"
      },
      "id": "YPGwZ-w1Ie8F",
      "execution_count": null,
      "outputs": []
    },
    {
      "cell_type": "markdown",
      "id": "001aa247",
      "metadata": {
        "id": "001aa247"
      },
      "source": [
        "---\n"
      ]
    },
    {
      "cell_type": "markdown",
      "id": "4fafb554",
      "metadata": {
        "id": "4fafb554"
      },
      "source": [
        "## Question 4. Comparing the histograms of feature scaling and the histograms of transforms, listing the main difference between them."
      ]
    },
    {
      "cell_type": "markdown",
      "id": "34f7ee8d",
      "metadata": {
        "id": "34f7ee8d"
      },
      "source": [
        "**Answer to Q4:** type your answer here"
      ]
    },
    {
      "cell_type": "markdown",
      "source": [
        "\n",
        "\n",
        "**Difference**\n",
        "Scaling only changes the Range of the data scale along the axis.\n",
        ".while the Standardization,normalization the data distribution is changed.\n",
        "So,when we compared both Scaling only changes the range.while in the Normalization the shape is changed\n",
        "\n",
        "All the Histograms are Left Skewed\n",
        "\n",
        "All the Histograms Looked Similar\n"
      ],
      "metadata": {
        "id": "4h9O3MIcK6st"
      },
      "id": "4h9O3MIcK6st"
    },
    {
      "cell_type": "code",
      "source": [],
      "metadata": {
        "id": "aW4v96lHK2rw"
      },
      "id": "aW4v96lHK2rw",
      "execution_count": null,
      "outputs": []
    },
    {
      "cell_type": "markdown",
      "id": "08eeeec1",
      "metadata": {
        "id": "08eeeec1"
      },
      "source": [
        "---\n"
      ]
    },
    {
      "cell_type": "markdown",
      "id": "ecf02e94",
      "metadata": {
        "id": "ecf02e94"
      },
      "source": [
        "## Example of interaction features in prediction"
      ]
    },
    {
      "cell_type": "code",
      "execution_count": 80,
      "id": "04bc1b8b",
      "metadata": {
        "id": "04bc1b8b"
      },
      "outputs": [],
      "source": [
        "from sklearn import linear_model\n",
        "from sklearn.model_selection import train_test_split\n",
        "import sklearn.preprocessing as preproc"
      ]
    },
    {
      "cell_type": "code",
      "execution_count": 81,
      "id": "e733447d",
      "metadata": {
        "id": "e733447d",
        "outputId": "3b72cc54-09d6-472e-fd1e-1ce291be7e12",
        "colab": {
          "base_uri": "https://localhost:8080/"
        }
      },
      "outputs": [
        {
          "output_type": "execute_result",
          "data": {
            "text/plain": [
              "Index(['url', 'timedelta', 'n_tokens_title', 'n_tokens_content',\n",
              "       'n_unique_tokens', 'n_non_stop_words', 'n_non_stop_unique_tokens',\n",
              "       'num_hrefs', 'num_self_hrefs', 'num_imgs', 'num_videos',\n",
              "       'average_token_length', 'num_keywords', 'data_channel_is_lifestyle',\n",
              "       'data_channel_is_entertainment', 'data_channel_is_bus',\n",
              "       'data_channel_is_socmed', 'data_channel_is_tech',\n",
              "       'data_channel_is_world', 'kw_min_min', 'kw_max_min', 'kw_avg_min',\n",
              "       'kw_min_max', 'kw_max_max', 'kw_avg_max', 'kw_min_avg', 'kw_max_avg',\n",
              "       'kw_avg_avg', 'self_reference_min_shares', 'self_reference_max_shares',\n",
              "       'self_reference_avg_sharess', 'weekday_is_monday', 'weekday_is_tuesday',\n",
              "       'weekday_is_wednesday', 'weekday_is_thursday', 'weekday_is_friday',\n",
              "       'weekday_is_saturday', 'weekday_is_sunday', 'is_weekend', 'LDA_00',\n",
              "       'LDA_01', 'LDA_02', 'LDA_03', 'LDA_04', 'global_subjectivity',\n",
              "       'global_sentiment_polarity', 'global_rate_positive_words',\n",
              "       'global_rate_negative_words', 'rate_positive_words',\n",
              "       'rate_negative_words', 'avg_positive_polarity', 'min_positive_polarity',\n",
              "       'max_positive_polarity', 'avg_negative_polarity',\n",
              "       'min_negative_polarity', 'max_negative_polarity', 'title_subjectivity',\n",
              "       'title_sentiment_polarity', 'abs_title_subjectivity',\n",
              "       'abs_title_sentiment_polarity', 'shares', 'minmax', 'standardized',\n",
              "       'l2_normalized'],\n",
              "      dtype='object')"
            ]
          },
          "metadata": {},
          "execution_count": 81
        }
      ],
      "source": [
        "news_df.columns"
      ]
    },
    {
      "cell_type": "code",
      "execution_count": 82,
      "id": "e1c3b43e",
      "metadata": {
        "id": "e1c3b43e"
      },
      "outputs": [],
      "source": [
        "features = ['n_tokens_title', 'n_tokens_content', 'n_unique_tokens', 'n_non_stop_words', 'n_non_stop_unique_tokens',\n",
        "            'num_hrefs', 'num_self_hrefs', 'num_imgs', 'num_videos', 'average_token_length', 'num_keywords', \n",
        "            'data_channel_is_lifestyle', 'data_channel_is_entertainment', 'data_channel_is_bus',\n",
        "            'data_channel_is_socmed', 'data_channel_is_tech', 'data_channel_is_world']"
      ]
    },
    {
      "cell_type": "code",
      "execution_count": 83,
      "id": "02676cce",
      "metadata": {
        "id": "02676cce",
        "outputId": "526b11f7-adff-48c8-bd19-da90ba2968c3",
        "colab": {
          "base_uri": "https://localhost:8080/"
        }
      },
      "outputs": [
        {
          "output_type": "execute_result",
          "data": {
            "text/plain": [
              "(39644, 17)"
            ]
          },
          "metadata": {},
          "execution_count": 83
        }
      ],
      "source": [
        "X = news_df[features]\n",
        "y = news_df[['shares']]\n",
        "\n",
        "X.shape"
      ]
    },
    {
      "cell_type": "code",
      "execution_count": 84,
      "id": "a8087eb9",
      "metadata": {
        "id": "a8087eb9"
      },
      "outputs": [],
      "source": [
        "X2 = preproc.PolynomialFeatures(include_bias=False).fit_transform(X)\n",
        "X1_train, X1_test, X2_train, X2_test, y_train, y_test = train_test_split(X, X2, y, test_size=0.3, random_state=123)"
      ]
    },
    {
      "cell_type": "code",
      "execution_count": 85,
      "id": "5d39aa70",
      "metadata": {
        "id": "5d39aa70"
      },
      "outputs": [],
      "source": [
        "def evaluate_feature(X_train, X_test, y_train, y_test):\n",
        "    \"\"\"Fit a linear regression model on the training set and score on the test set\"\"\"\n",
        "    model = linear_model.LinearRegression().fit(X_train, y_train)\n",
        "    r_score = model.score(X_test, y_test)\n",
        "    return (model, r_score)"
      ]
    },
    {
      "cell_type": "code",
      "execution_count": 86,
      "id": "2b1ce61d",
      "metadata": {
        "id": "2b1ce61d",
        "outputId": "f5102809-4bfc-4403-a0eb-d765ea347910",
        "colab": {
          "base_uri": "https://localhost:8080/"
        }
      },
      "outputs": [
        {
          "output_type": "stream",
          "name": "stdout",
          "text": [
            "R-squared score with singleton features: 0.00924\n",
            "R-squared score with pairwise features: 0.0113157983\n"
          ]
        }
      ],
      "source": [
        "(m1, r1) = evaluate_feature(X1_train, X1_test, y_train, y_test)\n",
        "print(\"R-squared score with singleton features: %0.5f\" % r1)\n",
        "\n",
        "(m2, r2) = evaluate_feature(X2_train, X2_test, y_train, y_test)\n",
        "print(\"R-squared score with pairwise features: %0.10f\" % r2)"
      ]
    },
    {
      "cell_type": "markdown",
      "id": "63e342c8",
      "metadata": {
        "id": "63e342c8"
      },
      "source": [
        "## Task 5. Interaction features in prediction with dry bean dataset\n",
        "**Dry bean dataset**: https://archive.ics.uci.edu/ml/machine-learning-databases/00602/DryBeanDataset.zip"
      ]
    },
    {
      "cell_type": "markdown",
      "id": "dcbd1011",
      "metadata": {
        "id": "dcbd1011"
      },
      "source": [
        "**note:** Try to encode categorical data into numeric data (the last column 'class') first.\n",
        "Then apply the interation features and compare the r-squared scores of the singleton features and the interaction features"
      ]
    },
    {
      "cell_type": "code",
      "execution_count": 87,
      "id": "7a24ecbf",
      "metadata": {
        "id": "7a24ecbf",
        "colab": {
          "base_uri": "https://localhost:8080/"
        },
        "outputId": "cb40a0f9-8bf7-4992-bdff-b124d01d9148"
      },
      "outputs": [
        {
          "output_type": "stream",
          "name": "stdout",
          "text": [
            "--2022-09-21 17:58:45--  https://archive.ics.uci.edu/ml/machine-learning-databases/00602/DryBeanDataset.zip\n",
            "Resolving archive.ics.uci.edu (archive.ics.uci.edu)... 128.195.10.252\n",
            "Connecting to archive.ics.uci.edu (archive.ics.uci.edu)|128.195.10.252|:443... connected.\n",
            "HTTP request sent, awaiting response... 200 OK\n",
            "Length: 4738776 (4.5M) [application/x-httpd-php]\n",
            "Saving to: ‘DryBeanDataset.zip’\n",
            "\n",
            "DryBeanDataset.zip  100%[===================>]   4.52M  8.16MB/s    in 0.6s    \n",
            "\n",
            "2022-09-21 17:58:46 (8.16 MB/s) - ‘DryBeanDataset.zip’ saved [4738776/4738776]\n",
            "\n"
          ]
        }
      ],
      "source": [
        "# write your code here\n",
        "!wget https://archive.ics.uci.edu/ml/machine-learning-databases/00602/DryBeanDataset.zip"
      ]
    },
    {
      "cell_type": "markdown",
      "id": "ad87f470",
      "metadata": {
        "id": "ad87f470"
      },
      "source": []
    },
    {
      "cell_type": "code",
      "execution_count": 89,
      "id": "80242122",
      "metadata": {
        "id": "80242122"
      },
      "outputs": [],
      "source": [
        "z=zipfile.ZipFile('/content/DryBeanDataset.zip','r')\n",
        "z.extractall()\n",
        "z.close()"
      ]
    },
    {
      "cell_type": "code",
      "execution_count": 90,
      "id": "77f3ca0f",
      "metadata": {
        "id": "77f3ca0f"
      },
      "outputs": [],
      "source": [
        "data=pd.read_excel('/content/DryBeanDataset/Dry_Bean_Dataset.xlsx')"
      ]
    },
    {
      "cell_type": "code",
      "execution_count": 91,
      "id": "67c0f8c7",
      "metadata": {
        "id": "67c0f8c7",
        "colab": {
          "base_uri": "https://localhost:8080/",
          "height": 270
        },
        "outputId": "05b67d3b-cb47-41b8-f3e9-277ec9f44c92"
      },
      "outputs": [
        {
          "output_type": "execute_result",
          "data": {
            "text/plain": [
              "    Area  Perimeter  MajorAxisLength  MinorAxisLength  AspectRation  \\\n",
              "0  28395    610.291       208.178117       173.888747      1.197191   \n",
              "1  28734    638.018       200.524796       182.734419      1.097356   \n",
              "2  29380    624.110       212.826130       175.931143      1.209713   \n",
              "3  30008    645.884       210.557999       182.516516      1.153638   \n",
              "4  30140    620.134       201.847882       190.279279      1.060798   \n",
              "\n",
              "   Eccentricity  ConvexArea  EquivDiameter    Extent  Solidity  roundness  \\\n",
              "0      0.549812       28715     190.141097  0.763923  0.988856   0.958027   \n",
              "1      0.411785       29172     191.272750  0.783968  0.984986   0.887034   \n",
              "2      0.562727       29690     193.410904  0.778113  0.989559   0.947849   \n",
              "3      0.498616       30724     195.467062  0.782681  0.976696   0.903936   \n",
              "4      0.333680       30417     195.896503  0.773098  0.990893   0.984877   \n",
              "\n",
              "   Compactness  ShapeFactor1  ShapeFactor2  ShapeFactor3  ShapeFactor4  Class  \n",
              "0     0.913358      0.007332      0.003147      0.834222      0.998724  SEKER  \n",
              "1     0.953861      0.006979      0.003564      0.909851      0.998430  SEKER  \n",
              "2     0.908774      0.007244      0.003048      0.825871      0.999066  SEKER  \n",
              "3     0.928329      0.007017      0.003215      0.861794      0.994199  SEKER  \n",
              "4     0.970516      0.006697      0.003665      0.941900      0.999166  SEKER  "
            ],
            "text/html": [
              "\n",
              "  <div id=\"df-61099b25-4766-42a3-968b-6f9835261bcc\">\n",
              "    <div class=\"colab-df-container\">\n",
              "      <div>\n",
              "<style scoped>\n",
              "    .dataframe tbody tr th:only-of-type {\n",
              "        vertical-align: middle;\n",
              "    }\n",
              "\n",
              "    .dataframe tbody tr th {\n",
              "        vertical-align: top;\n",
              "    }\n",
              "\n",
              "    .dataframe thead th {\n",
              "        text-align: right;\n",
              "    }\n",
              "</style>\n",
              "<table border=\"1\" class=\"dataframe\">\n",
              "  <thead>\n",
              "    <tr style=\"text-align: right;\">\n",
              "      <th></th>\n",
              "      <th>Area</th>\n",
              "      <th>Perimeter</th>\n",
              "      <th>MajorAxisLength</th>\n",
              "      <th>MinorAxisLength</th>\n",
              "      <th>AspectRation</th>\n",
              "      <th>Eccentricity</th>\n",
              "      <th>ConvexArea</th>\n",
              "      <th>EquivDiameter</th>\n",
              "      <th>Extent</th>\n",
              "      <th>Solidity</th>\n",
              "      <th>roundness</th>\n",
              "      <th>Compactness</th>\n",
              "      <th>ShapeFactor1</th>\n",
              "      <th>ShapeFactor2</th>\n",
              "      <th>ShapeFactor3</th>\n",
              "      <th>ShapeFactor4</th>\n",
              "      <th>Class</th>\n",
              "    </tr>\n",
              "  </thead>\n",
              "  <tbody>\n",
              "    <tr>\n",
              "      <th>0</th>\n",
              "      <td>28395</td>\n",
              "      <td>610.291</td>\n",
              "      <td>208.178117</td>\n",
              "      <td>173.888747</td>\n",
              "      <td>1.197191</td>\n",
              "      <td>0.549812</td>\n",
              "      <td>28715</td>\n",
              "      <td>190.141097</td>\n",
              "      <td>0.763923</td>\n",
              "      <td>0.988856</td>\n",
              "      <td>0.958027</td>\n",
              "      <td>0.913358</td>\n",
              "      <td>0.007332</td>\n",
              "      <td>0.003147</td>\n",
              "      <td>0.834222</td>\n",
              "      <td>0.998724</td>\n",
              "      <td>SEKER</td>\n",
              "    </tr>\n",
              "    <tr>\n",
              "      <th>1</th>\n",
              "      <td>28734</td>\n",
              "      <td>638.018</td>\n",
              "      <td>200.524796</td>\n",
              "      <td>182.734419</td>\n",
              "      <td>1.097356</td>\n",
              "      <td>0.411785</td>\n",
              "      <td>29172</td>\n",
              "      <td>191.272750</td>\n",
              "      <td>0.783968</td>\n",
              "      <td>0.984986</td>\n",
              "      <td>0.887034</td>\n",
              "      <td>0.953861</td>\n",
              "      <td>0.006979</td>\n",
              "      <td>0.003564</td>\n",
              "      <td>0.909851</td>\n",
              "      <td>0.998430</td>\n",
              "      <td>SEKER</td>\n",
              "    </tr>\n",
              "    <tr>\n",
              "      <th>2</th>\n",
              "      <td>29380</td>\n",
              "      <td>624.110</td>\n",
              "      <td>212.826130</td>\n",
              "      <td>175.931143</td>\n",
              "      <td>1.209713</td>\n",
              "      <td>0.562727</td>\n",
              "      <td>29690</td>\n",
              "      <td>193.410904</td>\n",
              "      <td>0.778113</td>\n",
              "      <td>0.989559</td>\n",
              "      <td>0.947849</td>\n",
              "      <td>0.908774</td>\n",
              "      <td>0.007244</td>\n",
              "      <td>0.003048</td>\n",
              "      <td>0.825871</td>\n",
              "      <td>0.999066</td>\n",
              "      <td>SEKER</td>\n",
              "    </tr>\n",
              "    <tr>\n",
              "      <th>3</th>\n",
              "      <td>30008</td>\n",
              "      <td>645.884</td>\n",
              "      <td>210.557999</td>\n",
              "      <td>182.516516</td>\n",
              "      <td>1.153638</td>\n",
              "      <td>0.498616</td>\n",
              "      <td>30724</td>\n",
              "      <td>195.467062</td>\n",
              "      <td>0.782681</td>\n",
              "      <td>0.976696</td>\n",
              "      <td>0.903936</td>\n",
              "      <td>0.928329</td>\n",
              "      <td>0.007017</td>\n",
              "      <td>0.003215</td>\n",
              "      <td>0.861794</td>\n",
              "      <td>0.994199</td>\n",
              "      <td>SEKER</td>\n",
              "    </tr>\n",
              "    <tr>\n",
              "      <th>4</th>\n",
              "      <td>30140</td>\n",
              "      <td>620.134</td>\n",
              "      <td>201.847882</td>\n",
              "      <td>190.279279</td>\n",
              "      <td>1.060798</td>\n",
              "      <td>0.333680</td>\n",
              "      <td>30417</td>\n",
              "      <td>195.896503</td>\n",
              "      <td>0.773098</td>\n",
              "      <td>0.990893</td>\n",
              "      <td>0.984877</td>\n",
              "      <td>0.970516</td>\n",
              "      <td>0.006697</td>\n",
              "      <td>0.003665</td>\n",
              "      <td>0.941900</td>\n",
              "      <td>0.999166</td>\n",
              "      <td>SEKER</td>\n",
              "    </tr>\n",
              "  </tbody>\n",
              "</table>\n",
              "</div>\n",
              "      <button class=\"colab-df-convert\" onclick=\"convertToInteractive('df-61099b25-4766-42a3-968b-6f9835261bcc')\"\n",
              "              title=\"Convert this dataframe to an interactive table.\"\n",
              "              style=\"display:none;\">\n",
              "        \n",
              "  <svg xmlns=\"http://www.w3.org/2000/svg\" height=\"24px\"viewBox=\"0 0 24 24\"\n",
              "       width=\"24px\">\n",
              "    <path d=\"M0 0h24v24H0V0z\" fill=\"none\"/>\n",
              "    <path d=\"M18.56 5.44l.94 2.06.94-2.06 2.06-.94-2.06-.94-.94-2.06-.94 2.06-2.06.94zm-11 1L8.5 8.5l.94-2.06 2.06-.94-2.06-.94L8.5 2.5l-.94 2.06-2.06.94zm10 10l.94 2.06.94-2.06 2.06-.94-2.06-.94-.94-2.06-.94 2.06-2.06.94z\"/><path d=\"M17.41 7.96l-1.37-1.37c-.4-.4-.92-.59-1.43-.59-.52 0-1.04.2-1.43.59L10.3 9.45l-7.72 7.72c-.78.78-.78 2.05 0 2.83L4 21.41c.39.39.9.59 1.41.59.51 0 1.02-.2 1.41-.59l7.78-7.78 2.81-2.81c.8-.78.8-2.07 0-2.86zM5.41 20L4 18.59l7.72-7.72 1.47 1.35L5.41 20z\"/>\n",
              "  </svg>\n",
              "      </button>\n",
              "      \n",
              "  <style>\n",
              "    .colab-df-container {\n",
              "      display:flex;\n",
              "      flex-wrap:wrap;\n",
              "      gap: 12px;\n",
              "    }\n",
              "\n",
              "    .colab-df-convert {\n",
              "      background-color: #E8F0FE;\n",
              "      border: none;\n",
              "      border-radius: 50%;\n",
              "      cursor: pointer;\n",
              "      display: none;\n",
              "      fill: #1967D2;\n",
              "      height: 32px;\n",
              "      padding: 0 0 0 0;\n",
              "      width: 32px;\n",
              "    }\n",
              "\n",
              "    .colab-df-convert:hover {\n",
              "      background-color: #E2EBFA;\n",
              "      box-shadow: 0px 1px 2px rgba(60, 64, 67, 0.3), 0px 1px 3px 1px rgba(60, 64, 67, 0.15);\n",
              "      fill: #174EA6;\n",
              "    }\n",
              "\n",
              "    [theme=dark] .colab-df-convert {\n",
              "      background-color: #3B4455;\n",
              "      fill: #D2E3FC;\n",
              "    }\n",
              "\n",
              "    [theme=dark] .colab-df-convert:hover {\n",
              "      background-color: #434B5C;\n",
              "      box-shadow: 0px 1px 3px 1px rgba(0, 0, 0, 0.15);\n",
              "      filter: drop-shadow(0px 1px 2px rgba(0, 0, 0, 0.3));\n",
              "      fill: #FFFFFF;\n",
              "    }\n",
              "  </style>\n",
              "\n",
              "      <script>\n",
              "        const buttonEl =\n",
              "          document.querySelector('#df-61099b25-4766-42a3-968b-6f9835261bcc button.colab-df-convert');\n",
              "        buttonEl.style.display =\n",
              "          google.colab.kernel.accessAllowed ? 'block' : 'none';\n",
              "\n",
              "        async function convertToInteractive(key) {\n",
              "          const element = document.querySelector('#df-61099b25-4766-42a3-968b-6f9835261bcc');\n",
              "          const dataTable =\n",
              "            await google.colab.kernel.invokeFunction('convertToInteractive',\n",
              "                                                     [key], {});\n",
              "          if (!dataTable) return;\n",
              "\n",
              "          const docLinkHtml = 'Like what you see? Visit the ' +\n",
              "            '<a target=\"_blank\" href=https://colab.research.google.com/notebooks/data_table.ipynb>data table notebook</a>'\n",
              "            + ' to learn more about interactive tables.';\n",
              "          element.innerHTML = '';\n",
              "          dataTable['output_type'] = 'display_data';\n",
              "          await google.colab.output.renderOutput(dataTable, element);\n",
              "          const docLink = document.createElement('div');\n",
              "          docLink.innerHTML = docLinkHtml;\n",
              "          element.appendChild(docLink);\n",
              "        }\n",
              "      </script>\n",
              "    </div>\n",
              "  </div>\n",
              "  "
            ]
          },
          "metadata": {},
          "execution_count": 91
        }
      ],
      "source": [
        "data.head(5)"
      ]
    },
    {
      "cell_type": "code",
      "source": [
        "from sklearn.preprocessing import LabelEncoder\n",
        "label_encoder=LabelEncoder()\n",
        "data['Class_num']=label_encoder.fit_transform(data['Class'])\n"
      ],
      "metadata": {
        "id": "nls9Twq-OAcF"
      },
      "id": "nls9Twq-OAcF",
      "execution_count": 94,
      "outputs": []
    },
    {
      "cell_type": "code",
      "source": [
        "data.head(5)"
      ],
      "metadata": {
        "colab": {
          "base_uri": "https://localhost:8080/",
          "height": 270
        },
        "id": "rrzg9tA2ORPB",
        "outputId": "f89f67ba-7dab-441b-e729-ea669a68c838"
      },
      "id": "rrzg9tA2ORPB",
      "execution_count": 95,
      "outputs": [
        {
          "output_type": "execute_result",
          "data": {
            "text/plain": [
              "    Area  Perimeter  MajorAxisLength  MinorAxisLength  AspectRation  \\\n",
              "0  28395    610.291       208.178117       173.888747      1.197191   \n",
              "1  28734    638.018       200.524796       182.734419      1.097356   \n",
              "2  29380    624.110       212.826130       175.931143      1.209713   \n",
              "3  30008    645.884       210.557999       182.516516      1.153638   \n",
              "4  30140    620.134       201.847882       190.279279      1.060798   \n",
              "\n",
              "   Eccentricity  ConvexArea  EquivDiameter    Extent  Solidity  roundness  \\\n",
              "0      0.549812       28715     190.141097  0.763923  0.988856   0.958027   \n",
              "1      0.411785       29172     191.272750  0.783968  0.984986   0.887034   \n",
              "2      0.562727       29690     193.410904  0.778113  0.989559   0.947849   \n",
              "3      0.498616       30724     195.467062  0.782681  0.976696   0.903936   \n",
              "4      0.333680       30417     195.896503  0.773098  0.990893   0.984877   \n",
              "\n",
              "   Compactness  ShapeFactor1  ShapeFactor2  ShapeFactor3  ShapeFactor4  Class  \\\n",
              "0     0.913358      0.007332      0.003147      0.834222      0.998724  SEKER   \n",
              "1     0.953861      0.006979      0.003564      0.909851      0.998430  SEKER   \n",
              "2     0.908774      0.007244      0.003048      0.825871      0.999066  SEKER   \n",
              "3     0.928329      0.007017      0.003215      0.861794      0.994199  SEKER   \n",
              "4     0.970516      0.006697      0.003665      0.941900      0.999166  SEKER   \n",
              "\n",
              "   Class_num  \n",
              "0          5  \n",
              "1          5  \n",
              "2          5  \n",
              "3          5  \n",
              "4          5  "
            ],
            "text/html": [
              "\n",
              "  <div id=\"df-27781691-f1e8-47fb-b8cd-c1e8bd2d00e3\">\n",
              "    <div class=\"colab-df-container\">\n",
              "      <div>\n",
              "<style scoped>\n",
              "    .dataframe tbody tr th:only-of-type {\n",
              "        vertical-align: middle;\n",
              "    }\n",
              "\n",
              "    .dataframe tbody tr th {\n",
              "        vertical-align: top;\n",
              "    }\n",
              "\n",
              "    .dataframe thead th {\n",
              "        text-align: right;\n",
              "    }\n",
              "</style>\n",
              "<table border=\"1\" class=\"dataframe\">\n",
              "  <thead>\n",
              "    <tr style=\"text-align: right;\">\n",
              "      <th></th>\n",
              "      <th>Area</th>\n",
              "      <th>Perimeter</th>\n",
              "      <th>MajorAxisLength</th>\n",
              "      <th>MinorAxisLength</th>\n",
              "      <th>AspectRation</th>\n",
              "      <th>Eccentricity</th>\n",
              "      <th>ConvexArea</th>\n",
              "      <th>EquivDiameter</th>\n",
              "      <th>Extent</th>\n",
              "      <th>Solidity</th>\n",
              "      <th>roundness</th>\n",
              "      <th>Compactness</th>\n",
              "      <th>ShapeFactor1</th>\n",
              "      <th>ShapeFactor2</th>\n",
              "      <th>ShapeFactor3</th>\n",
              "      <th>ShapeFactor4</th>\n",
              "      <th>Class</th>\n",
              "      <th>Class_num</th>\n",
              "    </tr>\n",
              "  </thead>\n",
              "  <tbody>\n",
              "    <tr>\n",
              "      <th>0</th>\n",
              "      <td>28395</td>\n",
              "      <td>610.291</td>\n",
              "      <td>208.178117</td>\n",
              "      <td>173.888747</td>\n",
              "      <td>1.197191</td>\n",
              "      <td>0.549812</td>\n",
              "      <td>28715</td>\n",
              "      <td>190.141097</td>\n",
              "      <td>0.763923</td>\n",
              "      <td>0.988856</td>\n",
              "      <td>0.958027</td>\n",
              "      <td>0.913358</td>\n",
              "      <td>0.007332</td>\n",
              "      <td>0.003147</td>\n",
              "      <td>0.834222</td>\n",
              "      <td>0.998724</td>\n",
              "      <td>SEKER</td>\n",
              "      <td>5</td>\n",
              "    </tr>\n",
              "    <tr>\n",
              "      <th>1</th>\n",
              "      <td>28734</td>\n",
              "      <td>638.018</td>\n",
              "      <td>200.524796</td>\n",
              "      <td>182.734419</td>\n",
              "      <td>1.097356</td>\n",
              "      <td>0.411785</td>\n",
              "      <td>29172</td>\n",
              "      <td>191.272750</td>\n",
              "      <td>0.783968</td>\n",
              "      <td>0.984986</td>\n",
              "      <td>0.887034</td>\n",
              "      <td>0.953861</td>\n",
              "      <td>0.006979</td>\n",
              "      <td>0.003564</td>\n",
              "      <td>0.909851</td>\n",
              "      <td>0.998430</td>\n",
              "      <td>SEKER</td>\n",
              "      <td>5</td>\n",
              "    </tr>\n",
              "    <tr>\n",
              "      <th>2</th>\n",
              "      <td>29380</td>\n",
              "      <td>624.110</td>\n",
              "      <td>212.826130</td>\n",
              "      <td>175.931143</td>\n",
              "      <td>1.209713</td>\n",
              "      <td>0.562727</td>\n",
              "      <td>29690</td>\n",
              "      <td>193.410904</td>\n",
              "      <td>0.778113</td>\n",
              "      <td>0.989559</td>\n",
              "      <td>0.947849</td>\n",
              "      <td>0.908774</td>\n",
              "      <td>0.007244</td>\n",
              "      <td>0.003048</td>\n",
              "      <td>0.825871</td>\n",
              "      <td>0.999066</td>\n",
              "      <td>SEKER</td>\n",
              "      <td>5</td>\n",
              "    </tr>\n",
              "    <tr>\n",
              "      <th>3</th>\n",
              "      <td>30008</td>\n",
              "      <td>645.884</td>\n",
              "      <td>210.557999</td>\n",
              "      <td>182.516516</td>\n",
              "      <td>1.153638</td>\n",
              "      <td>0.498616</td>\n",
              "      <td>30724</td>\n",
              "      <td>195.467062</td>\n",
              "      <td>0.782681</td>\n",
              "      <td>0.976696</td>\n",
              "      <td>0.903936</td>\n",
              "      <td>0.928329</td>\n",
              "      <td>0.007017</td>\n",
              "      <td>0.003215</td>\n",
              "      <td>0.861794</td>\n",
              "      <td>0.994199</td>\n",
              "      <td>SEKER</td>\n",
              "      <td>5</td>\n",
              "    </tr>\n",
              "    <tr>\n",
              "      <th>4</th>\n",
              "      <td>30140</td>\n",
              "      <td>620.134</td>\n",
              "      <td>201.847882</td>\n",
              "      <td>190.279279</td>\n",
              "      <td>1.060798</td>\n",
              "      <td>0.333680</td>\n",
              "      <td>30417</td>\n",
              "      <td>195.896503</td>\n",
              "      <td>0.773098</td>\n",
              "      <td>0.990893</td>\n",
              "      <td>0.984877</td>\n",
              "      <td>0.970516</td>\n",
              "      <td>0.006697</td>\n",
              "      <td>0.003665</td>\n",
              "      <td>0.941900</td>\n",
              "      <td>0.999166</td>\n",
              "      <td>SEKER</td>\n",
              "      <td>5</td>\n",
              "    </tr>\n",
              "  </tbody>\n",
              "</table>\n",
              "</div>\n",
              "      <button class=\"colab-df-convert\" onclick=\"convertToInteractive('df-27781691-f1e8-47fb-b8cd-c1e8bd2d00e3')\"\n",
              "              title=\"Convert this dataframe to an interactive table.\"\n",
              "              style=\"display:none;\">\n",
              "        \n",
              "  <svg xmlns=\"http://www.w3.org/2000/svg\" height=\"24px\"viewBox=\"0 0 24 24\"\n",
              "       width=\"24px\">\n",
              "    <path d=\"M0 0h24v24H0V0z\" fill=\"none\"/>\n",
              "    <path d=\"M18.56 5.44l.94 2.06.94-2.06 2.06-.94-2.06-.94-.94-2.06-.94 2.06-2.06.94zm-11 1L8.5 8.5l.94-2.06 2.06-.94-2.06-.94L8.5 2.5l-.94 2.06-2.06.94zm10 10l.94 2.06.94-2.06 2.06-.94-2.06-.94-.94-2.06-.94 2.06-2.06.94z\"/><path d=\"M17.41 7.96l-1.37-1.37c-.4-.4-.92-.59-1.43-.59-.52 0-1.04.2-1.43.59L10.3 9.45l-7.72 7.72c-.78.78-.78 2.05 0 2.83L4 21.41c.39.39.9.59 1.41.59.51 0 1.02-.2 1.41-.59l7.78-7.78 2.81-2.81c.8-.78.8-2.07 0-2.86zM5.41 20L4 18.59l7.72-7.72 1.47 1.35L5.41 20z\"/>\n",
              "  </svg>\n",
              "      </button>\n",
              "      \n",
              "  <style>\n",
              "    .colab-df-container {\n",
              "      display:flex;\n",
              "      flex-wrap:wrap;\n",
              "      gap: 12px;\n",
              "    }\n",
              "\n",
              "    .colab-df-convert {\n",
              "      background-color: #E8F0FE;\n",
              "      border: none;\n",
              "      border-radius: 50%;\n",
              "      cursor: pointer;\n",
              "      display: none;\n",
              "      fill: #1967D2;\n",
              "      height: 32px;\n",
              "      padding: 0 0 0 0;\n",
              "      width: 32px;\n",
              "    }\n",
              "\n",
              "    .colab-df-convert:hover {\n",
              "      background-color: #E2EBFA;\n",
              "      box-shadow: 0px 1px 2px rgba(60, 64, 67, 0.3), 0px 1px 3px 1px rgba(60, 64, 67, 0.15);\n",
              "      fill: #174EA6;\n",
              "    }\n",
              "\n",
              "    [theme=dark] .colab-df-convert {\n",
              "      background-color: #3B4455;\n",
              "      fill: #D2E3FC;\n",
              "    }\n",
              "\n",
              "    [theme=dark] .colab-df-convert:hover {\n",
              "      background-color: #434B5C;\n",
              "      box-shadow: 0px 1px 3px 1px rgba(0, 0, 0, 0.15);\n",
              "      filter: drop-shadow(0px 1px 2px rgba(0, 0, 0, 0.3));\n",
              "      fill: #FFFFFF;\n",
              "    }\n",
              "  </style>\n",
              "\n",
              "      <script>\n",
              "        const buttonEl =\n",
              "          document.querySelector('#df-27781691-f1e8-47fb-b8cd-c1e8bd2d00e3 button.colab-df-convert');\n",
              "        buttonEl.style.display =\n",
              "          google.colab.kernel.accessAllowed ? 'block' : 'none';\n",
              "\n",
              "        async function convertToInteractive(key) {\n",
              "          const element = document.querySelector('#df-27781691-f1e8-47fb-b8cd-c1e8bd2d00e3');\n",
              "          const dataTable =\n",
              "            await google.colab.kernel.invokeFunction('convertToInteractive',\n",
              "                                                     [key], {});\n",
              "          if (!dataTable) return;\n",
              "\n",
              "          const docLinkHtml = 'Like what you see? Visit the ' +\n",
              "            '<a target=\"_blank\" href=https://colab.research.google.com/notebooks/data_table.ipynb>data table notebook</a>'\n",
              "            + ' to learn more about interactive tables.';\n",
              "          element.innerHTML = '';\n",
              "          dataTable['output_type'] = 'display_data';\n",
              "          await google.colab.output.renderOutput(dataTable, element);\n",
              "          const docLink = document.createElement('div');\n",
              "          docLink.innerHTML = docLinkHtml;\n",
              "          element.appendChild(docLink);\n",
              "        }\n",
              "      </script>\n",
              "    </div>\n",
              "  </div>\n",
              "  "
            ]
          },
          "metadata": {},
          "execution_count": 95
        }
      ]
    },
    {
      "cell_type": "code",
      "execution_count": 96,
      "id": "1f8bf455",
      "metadata": {
        "id": "1f8bf455",
        "colab": {
          "base_uri": "https://localhost:8080/"
        },
        "outputId": "4462d016-ffea-4235-9f20-d35c411ea56a"
      },
      "outputs": [
        {
          "output_type": "execute_result",
          "data": {
            "text/plain": [
              "Index(['Area', 'Perimeter', 'MajorAxisLength', 'MinorAxisLength',\n",
              "       'AspectRation', 'Eccentricity', 'ConvexArea', 'EquivDiameter', 'Extent',\n",
              "       'Solidity', 'roundness', 'Compactness', 'ShapeFactor1', 'ShapeFactor2',\n",
              "       'ShapeFactor3', 'ShapeFactor4', 'Class', 'Class_num'],\n",
              "      dtype='object')"
            ]
          },
          "metadata": {},
          "execution_count": 96
        }
      ],
      "source": [
        "data.columns"
      ]
    },
    {
      "cell_type": "code",
      "source": [
        "features=['Area', 'Perimeter', 'MajorAxisLength', 'MinorAxisLength',\n",
        "       'AspectRation', 'Eccentricity', 'ConvexArea', 'EquivDiameter', 'Extent',\n",
        "       'Solidity', 'roundness', 'Compactness', 'ShapeFactor1', 'ShapeFactor2',\n",
        "       'ShapeFactor3', 'ShapeFactor4']"
      ],
      "metadata": {
        "id": "WixQCvQRNrGw"
      },
      "id": "WixQCvQRNrGw",
      "execution_count": 97,
      "outputs": []
    },
    {
      "cell_type": "code",
      "source": [
        "X=data[features]\n",
        "y=data['Class_num']"
      ],
      "metadata": {
        "id": "voKuWH5rNtGy"
      },
      "id": "voKuWH5rNtGy",
      "execution_count": 100,
      "outputs": []
    },
    {
      "cell_type": "code",
      "source": [
        "X.shape"
      ],
      "metadata": {
        "colab": {
          "base_uri": "https://localhost:8080/"
        },
        "id": "W95TtKaDO7KV",
        "outputId": "0a287464-cdfa-4b7c-e472-ee914408f239"
      },
      "id": "W95TtKaDO7KV",
      "execution_count": 101,
      "outputs": [
        {
          "output_type": "execute_result",
          "data": {
            "text/plain": [
              "(13611, 17)"
            ]
          },
          "metadata": {},
          "execution_count": 101
        }
      ]
    },
    {
      "cell_type": "code",
      "source": [
        "Data2= preproc.PolynomialFeatures(include_bias=False).fit_transform(X)\n",
        "X1_train, X1_test, X2_train, X2_test, y_train, y_test = train_test_split(X, Data2, y, test_size=0.3, random_state=123)"
      ],
      "metadata": {
        "id": "4GYvhYWFO9Fc"
      },
      "id": "4GYvhYWFO9Fc",
      "execution_count": 102,
      "outputs": []
    },
    {
      "cell_type": "code",
      "source": [
        "def evaluate_feature(X_train, X_test, y_train, y_test):\n",
        "    \"\"\"Fit a linear regression model on the training set and score on the test set\"\"\"\n",
        "    model = linear_model.LinearRegression().fit(X_train, y_train)\n",
        "    r_score = model.score(X_test, y_test)\n",
        "    return (model, r_score)"
      ],
      "metadata": {
        "id": "Y0IUQkZcPI4p"
      },
      "id": "Y0IUQkZcPI4p",
      "execution_count": 103,
      "outputs": []
    },
    {
      "cell_type": "code",
      "source": [
        "(m1, r1) = evaluate_feature(X1_train, X1_test, y_train, y_test)\n",
        "print(\"R-squared score with singleton features: %0.5f\" % r1)\n",
        "\n",
        "(m2, r2) = evaluate_feature(X2_train, X2_test, y_train, y_test)\n",
        "print(\"R-squared score with pairwise features: %0.10f\" % r2)"
      ],
      "metadata": {
        "colab": {
          "base_uri": "https://localhost:8080/"
        },
        "id": "AaSQiQBhPbE0",
        "outputId": "b716ce0f-6972-4e07-f0c7-d8d8a4590ee5"
      },
      "id": "AaSQiQBhPbE0",
      "execution_count": 104,
      "outputs": [
        {
          "output_type": "stream",
          "name": "stdout",
          "text": [
            "R-squared score with singleton features: 1.00000\n",
            "R-squared score with pairwise features: 0.9999999999\n"
          ]
        }
      ]
    }
  ],
  "metadata": {
    "kernelspec": {
      "display_name": "Python 3",
      "language": "python",
      "name": "python3"
    },
    "language_info": {
      "codemirror_mode": {
        "name": "ipython",
        "version": 3
      },
      "file_extension": ".py",
      "mimetype": "text/x-python",
      "name": "python",
      "nbconvert_exporter": "python",
      "pygments_lexer": "ipython3",
      "version": "3.8.8"
    },
    "colab": {
      "provenance": []
    }
  },
  "nbformat": 4,
  "nbformat_minor": 5
}